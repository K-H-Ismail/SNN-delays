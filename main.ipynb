{
 "cells": [
  {
   "cell_type": "code",
   "execution_count": 1,
   "metadata": {},
   "outputs": [],
   "source": [
    "from datasets import SHD_dataloaders\n",
    "from config import Config\n",
    "from ann import ANN\n",
    "from snn_delays import SnnDelays\n",
    "import torch"
   ]
  },
  {
   "cell_type": "code",
   "execution_count": 2,
   "metadata": {},
   "outputs": [
    {
     "name": "stderr",
     "output_type": "stream",
     "text": [
      "ERROR:wandb.jupyter:Failed to detect the name of this notebook, you can set it manually with the WANDB_NOTEBOOK_NAME environment variable to enable code saving.\n"
     ]
    },
    {
     "name": "stdout",
     "output_type": "stream",
     "text": [
      "The directory [../Datasets/extract] for saving extracted files already exists.\n",
      "SpikingJelly will not check the data integrity of extracted files.\n",
      "If extracted files are not integrated, please delete [../Datasets/extract] manually, then SpikingJelly will re-extract files from [../Datasets/download].\n",
      "The directory [../Datasets/duration_20] already exists.\n",
      "The directory [../Datasets/extract] for saving extracted files already exists.\n",
      "SpikingJelly will not check the data integrity of extracted files.\n",
      "If extracted files are not integrated, please delete [../Datasets/extract] manually, then SpikingJelly will re-extract files from [../Datasets/download].\n",
      "The directory [../Datasets/duration_20] already exists.\n"
     ]
    },
    {
     "name": "stderr",
     "output_type": "stream",
     "text": [
      "\u001b[34m\u001b[1mwandb\u001b[0m: Currently logged in as: \u001b[33mthvnvtos\u001b[0m. Use \u001b[1m`wandb login --relogin`\u001b[0m to force relogin\n",
      "\u001b[34m\u001b[1mwandb\u001b[0m: \u001b[33mWARNING\u001b[0m If you're specifying your api key in code, ensure this code is not shared publicly.\n",
      "\u001b[34m\u001b[1mwandb\u001b[0m: \u001b[33mWARNING\u001b[0m Consider setting the WANDB_API_KEY environment variable, or running `wandb login` from the command line.\n",
      "\u001b[34m\u001b[1mwandb\u001b[0m: Appending key for api.wandb.ai to your netrc file: /home/thanatos/.netrc\n"
     ]
    },
    {
     "data": {
      "text/html": [
       "wandb version 0.14.2 is available!  To upgrade, please run:\n",
       " $ pip install wandb --upgrade"
      ],
      "text/plain": [
       "<IPython.core.display.HTML object>"
      ]
     },
     "metadata": {},
     "output_type": "display_data"
    },
    {
     "data": {
      "text/html": [
       "Tracking run with wandb version 0.14.0"
      ],
      "text/plain": [
       "<IPython.core.display.HTML object>"
      ]
     },
     "metadata": {},
     "output_type": "display_data"
    },
    {
     "data": {
      "text/html": [
       "Run data is saved locally in <code>/home/thanatos/PhD/snn-delays/SNN-delays/wandb/run-20230410_144256-jvijysi5</code>"
      ],
      "text/plain": [
       "<IPython.core.display.HTML object>"
      ]
     },
     "metadata": {},
     "output_type": "display_data"
    },
    {
     "data": {
      "text/html": [
       "Syncing run <strong><a href='https://wandb.ai/thvnvtos/SHD-BestACC/runs/jvijysi5' target=\"_blank\">New ||shd||snn_delays_lr0||spike_count</a></strong> to <a href='https://wandb.ai/thvnvtos/SHD-BestACC' target=\"_blank\">Weights & Biases</a> (<a href='https://wandb.me/run' target=\"_blank\">docs</a>)<br/>"
      ],
      "text/plain": [
       "<IPython.core.display.HTML object>"
      ]
     },
     "metadata": {},
     "output_type": "display_data"
    },
    {
     "data": {
      "text/html": [
       " View project at <a href='https://wandb.ai/thvnvtos/SHD-BestACC' target=\"_blank\">https://wandb.ai/thvnvtos/SHD-BestACC</a>"
      ],
      "text/plain": [
       "<IPython.core.display.HTML object>"
      ]
     },
     "metadata": {},
     "output_type": "display_data"
    },
    {
     "data": {
      "text/html": [
       " View run at <a href='https://wandb.ai/thvnvtos/SHD-BestACC/runs/jvijysi5' target=\"_blank\">https://wandb.ai/thvnvtos/SHD-BestACC/runs/jvijysi5</a>"
      ],
      "text/plain": [
       "<IPython.core.display.HTML object>"
      ]
     },
     "metadata": {},
     "output_type": "display_data"
    },
    {
     "name": "stderr",
     "output_type": "stream",
     "text": [
      "/home/thanatos/anaconda3/envs/snn-delays/lib/python3.9/site-packages/DCLG/Conv.py:325: UserWarning: __floordiv__ is deprecated, and its behavior will change in a future version of pytorch. It currently rounds toward 0 (like the 'trunc' function NOT 'floor'). This results in incorrect rounding for negative values. To keep the current behavior, use torch.div(a, b, rounding_mode='trunc'), or for actual floor division, use torch.div(a, b, rounding_mode='floor').\n",
      "  P = P + self.lim // 2\n"
     ]
    },
    {
     "name": "stdout",
     "output_type": "stream",
     "text": [
      "=====> Epoch 0 : \n",
      "Loss Train = 2.996  |  Best Acc Train = 4.97% \n",
      "Loss Test = 2.996  |  Best Acc Test = 4.47%\n",
      "=====> Epoch 1 : \n",
      "Loss Train = 2.996  |  Best Acc Train = 4.98% \n",
      "Loss Test = 2.996  |  Best Acc Test = 4.47%\n",
      "=====> Epoch 2 : \n",
      "Loss Train = 2.992  |  Best Acc Train = 5.19% \n",
      "Loss Test = 2.891  |  Best Acc Test = 8.25%\n",
      "=====> Epoch 3 : \n",
      "Loss Train = 2.908  |  Best Acc Train = 8.61% \n",
      "Loss Test = 2.813  |  Best Acc Test = 10.85%\n",
      "=====> Epoch 4 : \n",
      "Loss Train = 2.722  |  Best Acc Train = 16.23% \n",
      "Loss Test = 2.635  |  Best Acc Test = 19.37%\n",
      "=====> Epoch 5 : \n",
      "Loss Train = 2.331  |  Best Acc Train = 30.18% \n",
      "Loss Test = 2.123  |  Best Acc Test = 36.65%\n",
      "=====> Epoch 6 : \n",
      "Loss Train = 1.367  |  Best Acc Train = 59.62% \n",
      "Loss Test = 0.980  |  Best Acc Test = 67.43%\n",
      "=====> Epoch 7 : \n",
      "Loss Train = 0.579  |  Best Acc Train = 81.90% \n",
      "Loss Test = 0.727  |  Best Acc Test = 74.08%\n",
      "=====> Epoch 8 : \n",
      "Loss Train = 0.342  |  Best Acc Train = 89.75% \n",
      "Loss Test = 0.572  |  Best Acc Test = 79.79%\n",
      "=====> Epoch 9 : \n",
      "Loss Train = 0.266  |  Best Acc Train = 92.04% \n",
      "Loss Test = 0.546  |  Best Acc Test = 81.25%\n",
      "=====> Epoch 10 : \n",
      "Loss Train = 0.210  |  Best Acc Train = 93.46% \n",
      "Loss Test = 0.558  |  Best Acc Test = 81.59%\n",
      "=====> Epoch 11 : \n",
      "Loss Train = 0.174  |  Best Acc Train = 94.73% \n",
      "Loss Test = 0.697  |  Best Acc Test = 81.59%\n",
      "=====> Epoch 12 : \n",
      "Loss Train = 0.140  |  Best Acc Train = 95.73% \n",
      "Loss Test = 0.580  |  Best Acc Test = 81.59%\n",
      "=====> Epoch 13 : \n",
      "Loss Train = 0.135  |  Best Acc Train = 95.95% \n",
      "Loss Test = 0.518  |  Best Acc Test = 83.43%\n",
      "=====> Epoch 14 : \n",
      "Loss Train = 0.112  |  Best Acc Train = 96.43% \n",
      "Loss Test = 0.475  |  Best Acc Test = 84.55%\n",
      "=====> Epoch 15 : \n",
      "Loss Train = 0.097  |  Best Acc Train = 97.08% \n",
      "Loss Test = 0.479  |  Best Acc Test = 84.55%\n",
      "=====> Epoch 16 : \n",
      "Loss Train = 0.081  |  Best Acc Train = 97.61% \n",
      "Loss Test = 0.450  |  Best Acc Test = 84.55%\n",
      "=====> Epoch 17 : \n",
      "Loss Train = 0.076  |  Best Acc Train = 97.85% \n",
      "Loss Test = 0.513  |  Best Acc Test = 84.55%\n",
      "=====> Epoch 18 : \n",
      "Loss Train = 0.064  |  Best Acc Train = 98.10% \n",
      "Loss Test = 0.539  |  Best Acc Test = 84.55%\n",
      "=====> Epoch 19 : \n",
      "Loss Train = 0.056  |  Best Acc Train = 98.53% \n",
      "Loss Test = 0.575  |  Best Acc Test = 84.55%\n",
      "=====> Epoch 20 : \n",
      "Loss Train = 0.045  |  Best Acc Train = 98.92% \n",
      "Loss Test = 0.523  |  Best Acc Test = 84.55%\n",
      "=====> Epoch 21 : \n",
      "Loss Train = 0.046  |  Best Acc Train = 98.92% \n",
      "Loss Test = 0.554  |  Best Acc Test = 84.55%\n",
      "=====> Epoch 22 : \n",
      "Loss Train = 0.038  |  Best Acc Train = 99.09% \n",
      "Loss Test = 0.474  |  Best Acc Test = 84.55%\n",
      "=====> Epoch 23 : \n",
      "Loss Train = 0.034  |  Best Acc Train = 99.19% \n",
      "Loss Test = 0.499  |  Best Acc Test = 84.55%\n",
      "=====> Epoch 24 : \n",
      "Loss Train = 0.034  |  Best Acc Train = 99.19% \n",
      "Loss Test = 0.657  |  Best Acc Test = 84.55%\n",
      "=====> Epoch 25 : \n",
      "Loss Train = 0.029  |  Best Acc Train = 99.34% \n",
      "Loss Test = 0.604  |  Best Acc Test = 84.55%\n",
      "=====> Epoch 26 : \n",
      "Loss Train = 0.024  |  Best Acc Train = 99.48% \n",
      "Loss Test = 0.555  |  Best Acc Test = 84.55%\n",
      "=====> Epoch 27 : \n",
      "Loss Train = 0.026  |  Best Acc Train = 99.48% \n",
      "Loss Test = 0.465  |  Best Acc Test = 84.97%\n",
      "=====> Epoch 28 : \n",
      "Loss Train = 0.024  |  Best Acc Train = 99.48% \n",
      "Loss Test = 0.485  |  Best Acc Test = 85.32%\n",
      "=====> Epoch 29 : \n",
      "Loss Train = 0.016  |  Best Acc Train = 99.80% \n",
      "Loss Test = 0.461  |  Best Acc Test = 85.32%\n",
      "=====> Epoch 30 : \n",
      "Loss Train = 0.014  |  Best Acc Train = 99.84% \n",
      "Loss Test = 0.477  |  Best Acc Test = 85.50%\n",
      "=====> Epoch 31 : \n",
      "Loss Train = 0.013  |  Best Acc Train = 99.84% \n",
      "Loss Test = 0.499  |  Best Acc Test = 85.50%\n",
      "=====> Epoch 32 : \n",
      "Loss Train = 0.012  |  Best Acc Train = 99.87% \n",
      "Loss Test = 0.464  |  Best Acc Test = 85.59%\n",
      "=====> Epoch 33 : \n",
      "Loss Train = 0.011  |  Best Acc Train = 99.87% \n",
      "Loss Test = 0.459  |  Best Acc Test = 85.59%\n",
      "=====> Epoch 34 : \n",
      "Loss Train = 0.011  |  Best Acc Train = 99.87% \n",
      "Loss Test = 0.456  |  Best Acc Test = 85.59%\n",
      "=====> Epoch 35 : \n",
      "Loss Train = 0.010  |  Best Acc Train = 99.87% \n",
      "Loss Test = 0.476  |  Best Acc Test = 85.59%\n",
      "=====> Epoch 36 : \n",
      "Loss Train = 0.011  |  Best Acc Train = 99.87% \n",
      "Loss Test = 0.460  |  Best Acc Test = 85.59%\n",
      "=====> Epoch 37 : \n",
      "Loss Train = 0.009  |  Best Acc Train = 99.95% \n",
      "Loss Test = 0.499  |  Best Acc Test = 85.59%\n",
      "=====> Epoch 38 : \n",
      "Loss Train = 0.009  |  Best Acc Train = 99.95% \n",
      "Loss Test = 0.489  |  Best Acc Test = 85.59%\n",
      "=====> Epoch 39 : \n",
      "Loss Train = 0.008  |  Best Acc Train = 99.95% \n",
      "Loss Test = 0.463  |  Best Acc Test = 85.59%\n",
      "=====> Epoch 40 : \n",
      "Loss Train = 0.008  |  Best Acc Train = 99.95% \n",
      "Loss Test = 0.453  |  Best Acc Test = 85.59%\n",
      "=====> Epoch 41 : \n",
      "Loss Train = 0.007  |  Best Acc Train = 99.98% \n",
      "Loss Test = 0.472  |  Best Acc Test = 85.59%\n",
      "=====> Epoch 42 : \n",
      "Loss Train = 0.007  |  Best Acc Train = 99.98% \n",
      "Loss Test = 0.431  |  Best Acc Test = 85.59%\n",
      "=====> Epoch 43 : \n",
      "Loss Train = 0.007  |  Best Acc Train = 100.00% \n",
      "Loss Test = 0.469  |  Best Acc Test = 85.59%\n",
      "=====> Epoch 44 : \n",
      "Loss Train = 0.007  |  Best Acc Train = 100.00% \n",
      "Loss Test = 0.460  |  Best Acc Test = 85.85%\n",
      "=====> Epoch 45 : \n",
      "Loss Train = 0.007  |  Best Acc Train = 100.00% \n",
      "Loss Test = 0.449  |  Best Acc Test = 85.85%\n",
      "=====> Epoch 46 : \n",
      "Loss Train = 0.007  |  Best Acc Train = 100.00% \n",
      "Loss Test = 0.445  |  Best Acc Test = 85.85%\n",
      "=====> Epoch 47 : \n",
      "Loss Train = 0.006  |  Best Acc Train = 100.00% \n",
      "Loss Test = 0.446  |  Best Acc Test = 85.87%\n",
      "=====> Epoch 48 : \n",
      "Loss Train = 0.006  |  Best Acc Train = 100.00% \n",
      "Loss Test = 0.450  |  Best Acc Test = 85.87%\n",
      "=====> Epoch 49 : \n",
      "Loss Train = 0.007  |  Best Acc Train = 100.00% \n",
      "Loss Test = 0.466  |  Best Acc Test = 85.87%\n"
     ]
    },
    {
     "data": {
      "text/html": [
       "Waiting for W&B process to finish... <strong style=\"color:green\">(success).</strong>"
      ],
      "text/plain": [
       "<IPython.core.display.HTML object>"
      ]
     },
     "metadata": {},
     "output_type": "display_data"
    },
    {
     "data": {
      "text/html": [
       "<style>\n",
       "    table.wandb td:nth-child(1) { padding: 0 10px; text-align: left ; width: auto;} td:nth-child(2) {text-align: left ; width: 100%}\n",
       "    .wandb-row { display: flex; flex-direction: row; flex-wrap: wrap; justify-content: flex-start; width: 100% }\n",
       "    .wandb-col { display: flex; flex-direction: column; flex-basis: 100%; flex: 1; padding: 10px; }\n",
       "    </style>\n",
       "<div class=\"wandb-row\"><div class=\"wandb-col\"><h3>Run history:</h3><br/><table class=\"wandb\"><tr><td>Epoch</td><td>▁▁▁▁▂▂▂▂▂▃▃▃▃▃▃▄▄▄▄▄▅▅▅▅▅▅▆▆▆▆▆▆▇▇▇▇▇███</td></tr><tr><td>acc_test</td><td>▁▁▁▂▄▆▇▇█▇██████████████████████████████</td></tr><tr><td>acc_train</td><td>▁▁▁▁▃▅▇▇████████████████████████████████</td></tr><tr><td>loss_test</td><td>████▆▂▂▁▁▂▁▁▁▁▁▁▁▁▁▁▁▁▁▁▁▁▁▁▁▁▁▁▁▁▁▁▁▁▁▁</td></tr><tr><td>loss_train</td><td>████▆▄▂▂▁▁▁▁▁▁▁▁▁▁▁▁▁▁▁▁▁▁▁▁▁▁▁▁▁▁▁▁▁▁▁▁</td></tr><tr><td>lr_w</td><td>▁▂▂▃▄▅▅▆▇███████▇▇▇▇▆▆▆▅▅▄▄▄▃▃▃▂▂▂▁▁▁▁▁▁</td></tr><tr><td>sigma</td><td>▁▁▁▁▁▁▁▁▁▁▁▁▁▁▁▁▁▁▁▁▁▁▁▁▁▁▁▁▁▁▁▁▁▁▁▁▁▁▁▁</td></tr></table><br/></div><div class=\"wandb-col\"><h3>Run summary:</h3><br/><table class=\"wandb\"><tr><td>Epoch</td><td>49</td></tr><tr><td>acc_test</td><td>0.85357</td></tr><tr><td>acc_train</td><td>0.99939</td></tr><tr><td>loss_test</td><td>0.46559</td></tr><tr><td>loss_train</td><td>0.00651</td></tr><tr><td>lr_w</td><td>0.0</td></tr><tr><td>sigma</td><td>0.5</td></tr></table><br/></div></div>"
      ],
      "text/plain": [
       "<IPython.core.display.HTML object>"
      ]
     },
     "metadata": {},
     "output_type": "display_data"
    },
    {
     "data": {
      "text/html": [
       " View run <strong style=\"color:#cdcd00\">New ||shd||snn_delays_lr0||spike_count</strong> at: <a href='https://wandb.ai/thvnvtos/SHD-BestACC/runs/jvijysi5' target=\"_blank\">https://wandb.ai/thvnvtos/SHD-BestACC/runs/jvijysi5</a><br/>Synced 6 W&B file(s), 0 media file(s), 0 artifact file(s) and 0 other file(s)"
      ],
      "text/plain": [
       "<IPython.core.display.HTML object>"
      ]
     },
     "metadata": {},
     "output_type": "display_data"
    },
    {
     "data": {
      "text/html": [
       "Find logs at: <code>./wandb/run-20230410_144256-jvijysi5/logs</code>"
      ],
      "text/plain": [
       "<IPython.core.display.HTML object>"
      ]
     },
     "metadata": {},
     "output_type": "display_data"
    }
   ],
   "source": [
    "config = Config()\n",
    "train_loader, valid_loader = SHD_dataloaders(config)\n",
    "model = SnnDelays(config)\n",
    "\n",
    "device = torch.device(\"cuda\" if torch.cuda.is_available() else \"cpu\")\n",
    "model.train_model(train_loader, valid_loader, device)"
   ]
  },
  {
   "cell_type": "code",
   "execution_count": null,
   "metadata": {},
   "outputs": [],
   "source": []
  }
 ],
 "metadata": {
  "kernelspec": {
   "display_name": "snn-delays",
   "language": "python",
   "name": "python3"
  },
  "language_info": {
   "codemirror_mode": {
    "name": "ipython",
    "version": 3
   },
   "file_extension": ".py",
   "mimetype": "text/x-python",
   "name": "python",
   "nbconvert_exporter": "python",
   "pygments_lexer": "ipython3",
   "version": "3.9.16"
  },
  "orig_nbformat": 4
 },
 "nbformat": 4,
 "nbformat_minor": 2
}
