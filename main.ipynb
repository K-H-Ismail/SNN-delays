{
 "cells": [
  {
   "cell_type": "code",
   "execution_count": 1,
   "metadata": {},
   "outputs": [
    {
     "name": "stdout",
     "output_type": "stream",
     "text": [
      "\n",
      "===> Device = cuda\n"
     ]
    }
   ],
   "source": [
    "from datasets import SHD_dataloaders\n",
    "from config import Config\n",
    "from ann import ANN\n",
    "from snn_delays import SnnDelays, SnnDelays_onlyLast\n",
    "import utils\n",
    "import torch\n",
    "\n",
    "device = torch.device(\"cuda\" if torch.cuda.is_available() else \"cpu\")\n",
    "print(f\"\\n===> Device = {device}\")"
   ]
  },
  {
   "cell_type": "code",
   "execution_count": 2,
   "metadata": {},
   "outputs": [
    {
     "name": "stdout",
     "output_type": "stream",
     "text": [
      "The directory [../Datasets/extract] for saving extracted files already exists.\n",
      "SpikingJelly will not check the data integrity of extracted files.\n",
      "If extracted files are not integrated, please delete [../Datasets/extract] manually, then SpikingJelly will re-extract files from [../Datasets/download].\n",
      "The directory [../Datasets/duration_5] already exists.\n",
      "The directory [../Datasets/extract] for saving extracted files already exists.\n",
      "SpikingJelly will not check the data integrity of extracted files.\n",
      "If extracted files are not integrated, please delete [../Datasets/extract] manually, then SpikingJelly will re-extract files from [../Datasets/download].\n",
      "The directory [../Datasets/duration_5] already exists.\n"
     ]
    },
    {
     "name": "stderr",
     "output_type": "stream",
     "text": [
      "ERROR:wandb.jupyter:Failed to detect the name of this notebook, you can set it manually with the WANDB_NOTEBOOK_NAME environment variable to enable code saving.\n",
      "\u001b[34m\u001b[1mwandb\u001b[0m: Currently logged in as: \u001b[33mthvnvtos\u001b[0m. Use \u001b[1m`wandb login --relogin`\u001b[0m to force relogin\n",
      "\u001b[34m\u001b[1mwandb\u001b[0m: \u001b[33mWARNING\u001b[0m If you're specifying your api key in code, ensure this code is not shared publicly.\n",
      "\u001b[34m\u001b[1mwandb\u001b[0m: \u001b[33mWARNING\u001b[0m Consider setting the WANDB_API_KEY environment variable, or running `wandb login` from the command line.\n",
      "\u001b[34m\u001b[1mwandb\u001b[0m: Appending key for api.wandb.ai to your netrc file: /home/thanatos/.netrc\n"
     ]
    },
    {
     "data": {
      "text/html": [
       "Tracking run with wandb version 0.14.2"
      ],
      "text/plain": [
       "<IPython.core.display.HTML object>"
      ]
     },
     "metadata": {},
     "output_type": "display_data"
    },
    {
     "data": {
      "text/html": [
       "Run data is saved locally in <code>/home/thanatos/PhD/snn-delays/SNN-delays/wandb/run-20230415_112908-hateelcq</code>"
      ],
      "text/plain": [
       "<IPython.core.display.HTML object>"
      ]
     },
     "metadata": {},
     "output_type": "display_data"
    },
    {
     "data": {
      "text/html": [
       "Syncing run <strong><a href='https://wandb.ai/thvnvtos/SHD-BestACC/runs/hateelcq' target=\"_blank\">IMPROV||0.25 padding right||shd||snn_delays||sum||MaxDelay=61||neuron=lif||seed=0</a></strong> to <a href='https://wandb.ai/thvnvtos/SHD-BestACC' target=\"_blank\">Weights & Biases</a> (<a href='https://wandb.me/run' target=\"_blank\">docs</a>)<br/>"
      ],
      "text/plain": [
       "<IPython.core.display.HTML object>"
      ]
     },
     "metadata": {},
     "output_type": "display_data"
    },
    {
     "data": {
      "text/html": [
       " View project at <a href='https://wandb.ai/thvnvtos/SHD-BestACC' target=\"_blank\">https://wandb.ai/thvnvtos/SHD-BestACC</a>"
      ],
      "text/plain": [
       "<IPython.core.display.HTML object>"
      ]
     },
     "metadata": {},
     "output_type": "display_data"
    },
    {
     "data": {
      "text/html": [
       " View run at <a href='https://wandb.ai/thvnvtos/SHD-BestACC/runs/hateelcq' target=\"_blank\">https://wandb.ai/thvnvtos/SHD-BestACC/runs/hateelcq</a>"
      ],
      "text/plain": [
       "<IPython.core.display.HTML object>"
      ]
     },
     "metadata": {},
     "output_type": "display_data"
    },
    {
     "name": "stdout",
     "output_type": "stream",
     "text": [
      "=====> Epoch 0 : \n",
      "Loss Train = 6.044  |  Best Acc Train = 7.31% \n",
      "Loss Test = 2.857  |  Best Acc Test = 23.89%\n",
      "=====> Epoch 1 : \n",
      "Loss Train = 4.009  |  Best Acc Train = 16.67% \n",
      "Loss Test = 1.850  |  Best Acc Test = 45.37%\n",
      "=====> Epoch 2 : \n",
      "Loss Train = 2.903  |  Best Acc Train = 28.98% \n",
      "Loss Test = 1.369  |  Best Acc Test = 57.60%\n",
      "=====> Epoch 3 : \n",
      "Loss Train = 2.109  |  Best Acc Train = 43.08% \n",
      "Loss Test = 1.034  |  Best Acc Test = 68.13%\n",
      "=====> Epoch 4 : \n",
      "Loss Train = 1.481  |  Best Acc Train = 57.14% \n",
      "Loss Test = 0.806  |  Best Acc Test = 74.62%\n",
      "=====> Epoch 5 : \n",
      "Loss Train = 1.056  |  Best Acc Train = 67.35% \n",
      "Loss Test = 0.601  |  Best Acc Test = 80.78%\n",
      "=====> Epoch 6 : \n",
      "Loss Train = 0.755  |  Best Acc Train = 75.99% \n",
      "Loss Test = 0.527  |  Best Acc Test = 82.86%\n",
      "=====> Epoch 7 : \n",
      "Loss Train = 0.558  |  Best Acc Train = 82.22% \n",
      "Loss Test = 0.488  |  Best Acc Test = 84.27%\n",
      "=====> Epoch 8 : \n",
      "Loss Train = 0.440  |  Best Acc Train = 85.38% \n",
      "Loss Test = 0.439  |  Best Acc Test = 84.52%\n",
      "=====> Epoch 9 : \n",
      "Loss Train = 0.350  |  Best Acc Train = 88.22% \n",
      "Loss Test = 0.420  |  Best Acc Test = 86.14%\n",
      "=====> Epoch 10 : \n",
      "Loss Train = 0.282  |  Best Acc Train = 90.90% \n",
      "Loss Test = 0.417  |  Best Acc Test = 86.68%\n",
      "=====> Epoch 11 : \n",
      "Loss Train = 0.228  |  Best Acc Train = 92.63% \n",
      "Loss Test = 0.340  |  Best Acc Test = 88.62%\n",
      "=====> Epoch 12 : \n",
      "Loss Train = 0.191  |  Best Acc Train = 93.83% \n",
      "Loss Test = 0.333  |  Best Acc Test = 88.81%\n",
      "=====> Epoch 13 : \n",
      "Loss Train = 0.156  |  Best Acc Train = 94.92% \n",
      "Loss Test = 0.261  |  Best Acc Test = 91.26%\n",
      "=====> Epoch 14 : \n",
      "Loss Train = 0.143  |  Best Acc Train = 95.25% \n",
      "Loss Test = 0.361  |  Best Acc Test = 91.26%\n",
      "=====> Epoch 15 : \n",
      "Loss Train = 0.114  |  Best Acc Train = 96.27% \n",
      "Loss Test = 0.363  |  Best Acc Test = 91.26%\n",
      "=====> Epoch 16 : \n",
      "Loss Train = 0.112  |  Best Acc Train = 96.27% \n",
      "Loss Test = 0.298  |  Best Acc Test = 91.26%\n",
      "=====> Epoch 17 : \n",
      "Loss Train = 0.100  |  Best Acc Train = 96.64% \n",
      "Loss Test = 0.293  |  Best Acc Test = 91.26%\n",
      "=====> Epoch 18 : \n",
      "Loss Train = 0.089  |  Best Acc Train = 96.93% \n",
      "Loss Test = 0.299  |  Best Acc Test = 91.26%\n",
      "=====> Epoch 19 : \n",
      "Loss Train = 0.094  |  Best Acc Train = 97.05% \n",
      "Loss Test = 0.343  |  Best Acc Test = 91.26%\n",
      "=====> Epoch 20 : \n",
      "Loss Train = 0.087  |  Best Acc Train = 97.23% \n",
      "Loss Test = 0.244  |  Best Acc Test = 91.81%\n",
      "=====> Epoch 21 : \n",
      "Loss Train = 0.078  |  Best Acc Train = 97.51% \n",
      "Loss Test = 0.263  |  Best Acc Test = 91.81%\n",
      "=====> Epoch 22 : \n",
      "Loss Train = 0.077  |  Best Acc Train = 97.53% \n",
      "Loss Test = 0.265  |  Best Acc Test = 91.81%\n",
      "=====> Epoch 23 : \n",
      "Loss Train = 0.085  |  Best Acc Train = 97.53% \n",
      "Loss Test = 0.348  |  Best Acc Test = 91.81%\n",
      "=====> Epoch 24 : \n",
      "Loss Train = 0.089  |  Best Acc Train = 97.53% \n",
      "Loss Test = 0.248  |  Best Acc Test = 91.81%\n",
      "=====> Epoch 25 : \n",
      "Loss Train = 0.100  |  Best Acc Train = 97.53% \n",
      "Loss Test = 0.222  |  Best Acc Test = 92.66%\n",
      "=====> Epoch 26 : \n",
      "Loss Train = 0.091  |  Best Acc Train = 97.53% \n",
      "Loss Test = 0.240  |  Best Acc Test = 92.66%\n",
      "=====> Epoch 27 : \n",
      "Loss Train = 0.084  |  Best Acc Train = 97.53% \n",
      "Loss Test = 0.237  |  Best Acc Test = 92.66%\n",
      "=====> Epoch 28 : \n",
      "Loss Train = 0.078  |  Best Acc Train = 97.53% \n",
      "Loss Test = 0.262  |  Best Acc Test = 92.66%\n",
      "=====> Epoch 29 : \n",
      "Loss Train = 0.075  |  Best Acc Train = 97.53% \n",
      "Loss Test = 0.250  |  Best Acc Test = 92.66%\n",
      "=====> Epoch 30 : \n",
      "Loss Train = 0.065  |  Best Acc Train = 97.76% \n",
      "Loss Test = 0.282  |  Best Acc Test = 92.66%\n",
      "=====> Epoch 31 : \n",
      "Loss Train = 0.058  |  Best Acc Train = 98.18% \n",
      "Loss Test = 0.228  |  Best Acc Test = 92.66%\n",
      "=====> Epoch 32 : \n",
      "Loss Train = 0.056  |  Best Acc Train = 98.18% \n",
      "Loss Test = 0.273  |  Best Acc Test = 92.66%\n",
      "=====> Epoch 33 : \n",
      "Loss Train = 0.049  |  Best Acc Train = 98.42% \n",
      "Loss Test = 0.269  |  Best Acc Test = 92.66%\n",
      "=====> Epoch 34 : \n",
      "Loss Train = 0.043  |  Best Acc Train = 98.74% \n",
      "Loss Test = 0.245  |  Best Acc Test = 92.66%\n",
      "=====> Epoch 35 : \n",
      "Loss Train = 0.042  |  Best Acc Train = 98.74% \n",
      "Loss Test = 0.239  |  Best Acc Test = 92.66%\n",
      "=====> Epoch 36 : \n",
      "Loss Train = 0.034  |  Best Acc Train = 98.89% \n",
      "Loss Test = 0.249  |  Best Acc Test = 92.66%\n",
      "=====> Epoch 37 : \n",
      "Loss Train = 0.035  |  Best Acc Train = 98.99% \n",
      "Loss Test = 0.241  |  Best Acc Test = 92.66%\n",
      "=====> Epoch 38 : \n",
      "Loss Train = 0.031  |  Best Acc Train = 99.15% \n",
      "Loss Test = 0.273  |  Best Acc Test = 92.66%\n",
      "=====> Epoch 39 : \n",
      "Loss Train = 0.030  |  Best Acc Train = 99.22% \n",
      "Loss Test = 0.248  |  Best Acc Test = 92.66%\n",
      "=====> Epoch 40 : \n",
      "Loss Train = 0.029  |  Best Acc Train = 99.23% \n",
      "Loss Test = 0.259  |  Best Acc Test = 92.66%\n",
      "=====> Epoch 41 : \n",
      "Loss Train = 0.027  |  Best Acc Train = 99.28% \n",
      "Loss Test = 0.271  |  Best Acc Test = 92.66%\n",
      "=====> Epoch 42 : \n",
      "Loss Train = 0.025  |  Best Acc Train = 99.34% \n",
      "Loss Test = 0.256  |  Best Acc Test = 92.66%\n",
      "=====> Epoch 43 : \n",
      "Loss Train = 0.023  |  Best Acc Train = 99.34% \n",
      "Loss Test = 0.268  |  Best Acc Test = 92.66%\n",
      "=====> Epoch 44 : \n",
      "Loss Train = 0.023  |  Best Acc Train = 99.38% \n",
      "Loss Test = 0.277  |  Best Acc Test = 92.66%\n",
      "=====> Epoch 45 : \n",
      "Loss Train = 0.023  |  Best Acc Train = 99.39% \n",
      "Loss Test = 0.274  |  Best Acc Test = 92.66%\n"
     ]
    }
   ],
   "source": [
    "\n",
    "config = Config()\n",
    "train_loader, valid_loader = SHD_dataloaders(config)\n",
    "model = SnnDelays(config).to(device)\n",
    "\n",
    "model.train_model(train_loader, valid_loader, device)\n"
   ]
  },
  {
   "cell_type": "code",
   "execution_count": null,
   "metadata": {},
   "outputs": [],
   "source": []
  }
 ],
 "metadata": {
  "kernelspec": {
   "display_name": "snn-delays",
   "language": "python",
   "name": "python3"
  },
  "language_info": {
   "codemirror_mode": {
    "name": "ipython",
    "version": 3
   },
   "file_extension": ".py",
   "mimetype": "text/x-python",
   "name": "python",
   "nbconvert_exporter": "python",
   "pygments_lexer": "ipython3",
   "version": "3.10.9"
  },
  "orig_nbformat": 4
 },
 "nbformat": 4,
 "nbformat_minor": 2
}
