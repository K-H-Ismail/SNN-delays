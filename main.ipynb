{
 "cells": [
  {
   "cell_type": "code",
   "execution_count": 8,
   "metadata": {},
   "outputs": [
    {
     "name": "stdout",
     "output_type": "stream",
     "text": [
      "\n",
      "===> Device = cpu\n"
     ]
    }
   ],
   "source": [
    "from datasets import SHD_dataloaders, SSC_dataloaders\n",
    "from config import Config\n",
    "from ann import ANN\n",
    "from snn_delays import SnnDelays\n",
    "import torch\n",
    "\n",
    "device = torch.device(\"cuda\" if torch.cuda.is_available() else \"cpu\")\n",
    "print(f\"\\n===> Device = {device}\")\n",
    "\n",
    "config = Config()\n",
    "\n",
    "model = SnnDelays(config).to(device)"
   ]
  },
  {
   "cell_type": "code",
   "execution_count": 9,
   "metadata": {},
   "outputs": [
    {
     "data": {
      "text/plain": [
       "device(type='cpu')"
      ]
     },
     "execution_count": 9,
     "metadata": {},
     "output_type": "execute_result"
    }
   ],
   "source": [
    "device"
   ]
  },
  {
   "cell_type": "code",
   "execution_count": 2,
   "metadata": {},
   "outputs": [
    {
     "name": "stdout",
     "output_type": "stream",
     "text": [
      "The directory [../Datasets/SHD/extract] for saving extracted files already exists.\n",
      "SpikingJelly will not check the data integrity of extracted files.\n",
      "If extracted files are not integrated, please delete [../Datasets/SHD/extract] manually, then SpikingJelly will re-extract files from [../Datasets/SHD/download].\n",
      "The directory [../Datasets/SHD/duration_25] already exists.\n",
      "The directory [../Datasets/SHD/extract] for saving extracted files already exists.\n",
      "SpikingJelly will not check the data integrity of extracted files.\n",
      "If extracted files are not integrated, please delete [../Datasets/SHD/extract] manually, then SpikingJelly will re-extract files from [../Datasets/SHD/download].\n",
      "The directory [../Datasets/SHD/duration_25] already exists.\n",
      "=====> Epoch 0 : \n",
      "Loss Train = 2.973  |  Acc Train = 11.56% \n",
      "Loss Valid = 2.601  |  Acc Valid = 26.71%\n",
      "Loss Test  = 2.563  |  Acc Test = 28.53%\n",
      "=====> Epoch 1 : \n",
      "Loss Train = 2.715  |  Acc Train = 20.65% \n",
      "Loss Valid = 2.227  |  Acc Valid = 40.43%\n",
      "Loss Test  = 2.178  |  Acc Test = 44.50%\n",
      "=====> Epoch 2 : \n",
      "Loss Train = 2.503  |  Acc Train = 28.55% \n",
      "Loss Valid = 1.841  |  Acc Valid = 53.50%\n",
      "Loss Test  = 1.847  |  Acc Test = 55.89%\n",
      "=====> Epoch 3 : \n",
      "Loss Train = 2.296  |  Acc Train = 36.63% \n",
      "Loss Valid = 1.550  |  Acc Valid = 62.39%\n",
      "Loss Test  = 1.563  |  Acc Test = 62.34%\n",
      "=====> Epoch 4 : \n",
      "Loss Train = 2.119  |  Acc Train = 42.36% \n",
      "Loss Valid = 1.173  |  Acc Valid = 74.32%\n",
      "Loss Test  = 1.202  |  Acc Test = 71.20%\n",
      "=====> Epoch 5 : \n",
      "Loss Train = 1.981  |  Acc Train = 46.82% \n",
      "Loss Valid = 0.968  |  Acc Valid = 79.91%\n",
      "Loss Test  = 1.037  |  Acc Test = 74.28%\n",
      "=====> Epoch 6 : \n",
      "Loss Train = 1.856  |  Acc Train = 50.30% \n",
      "Loss Valid = 0.843  |  Acc Valid = 80.33%\n",
      "Loss Test  = 0.939  |  Acc Test = 71.98%\n",
      "=====> Epoch 7 : \n",
      "Loss Train = 1.769  |  Acc Train = 53.35% \n",
      "Loss Valid = 0.685  |  Acc Valid = 85.62%\n",
      "Loss Test  = 0.807  |  Acc Test = 79.59%\n",
      "=====> Epoch 8 : \n",
      "Loss Train = 1.660  |  Acc Train = 56.50% \n",
      "Loss Valid = 0.617  |  Acc Valid = 86.22%\n",
      "Loss Test  = 0.727  |  Acc Test = 78.76%\n",
      "=====> Epoch 9 : \n",
      "Loss Train = 1.628  |  Acc Train = 57.64% \n",
      "Loss Valid = 0.513  |  Acc Valid = 88.86%\n",
      "Loss Test  = 0.671  |  Acc Test = 81.48%\n",
      "=====> Epoch 10 : \n",
      "Loss Train = 1.554  |  Acc Train = 59.51% \n",
      "Loss Valid = 0.501  |  Acc Valid = 89.41%\n",
      "Loss Test  = 0.633  |  Acc Test = 82.58%\n",
      "=====> Epoch 11 : \n",
      "Loss Train = 1.536  |  Acc Train = 61.20% \n",
      "Loss Valid = 0.501  |  Acc Valid = 87.00%\n",
      "Loss Test  = 0.576  |  Acc Test = 86.55%\n",
      "=====> Epoch 12 : \n",
      "Loss Train = 1.488  |  Acc Train = 63.17% \n",
      "Loss Valid = 0.459  |  Acc Valid = 90.25%\n",
      "Loss Test  = 0.675  |  Acc Test = 80.89%\n",
      "=====> Epoch 13 : \n",
      "Loss Train = 1.468  |  Acc Train = 63.51% \n",
      "Loss Valid = 0.460  |  Acc Valid = 88.80%\n",
      "Loss Test  = 0.681  |  Acc Test = 80.41%\n",
      "=====> Epoch 14 : \n",
      "Loss Train = 1.416  |  Acc Train = 65.09% \n",
      "Loss Valid = 0.369  |  Acc Valid = 93.08%\n",
      "Loss Test  = 0.532  |  Acc Test = 86.63%\n",
      "=====> Epoch 15 : \n",
      "Loss Train = 1.421  |  Acc Train = 64.43% \n",
      "Loss Valid = 0.356  |  Acc Valid = 93.20%\n",
      "Loss Test  = 0.560  |  Acc Test = 84.30%\n",
      "=====> Epoch 16 : \n",
      "Loss Train = 1.376  |  Acc Train = 65.94% \n",
      "Loss Valid = 0.352  |  Acc Valid = 92.84%\n",
      "Loss Test  = 0.466  |  Acc Test = 88.28%\n",
      "=====> Epoch 17 : \n",
      "Loss Train = 1.377  |  Acc Train = 66.58% \n",
      "Loss Valid = 0.316  |  Acc Valid = 93.86%\n",
      "Loss Test  = 0.539  |  Acc Test = 86.02%\n",
      "=====> Epoch 18 : \n",
      "Loss Train = 1.362  |  Acc Train = 67.06% \n",
      "Loss Valid = 0.329  |  Acc Valid = 92.84%\n",
      "Loss Test  = 0.566  |  Acc Test = 83.88%\n",
      "=====> Epoch 19 : \n",
      "Loss Train = 1.328  |  Acc Train = 68.06% \n",
      "Loss Valid = 0.337  |  Acc Valid = 93.50%\n",
      "Loss Test  = 0.566  |  Acc Test = 84.04%\n",
      "=====> Epoch 20 : \n",
      "Loss Train = 1.326  |  Acc Train = 68.45% \n",
      "Loss Valid = 0.312  |  Acc Valid = 94.22%\n",
      "Loss Test  = 0.532  |  Acc Test = 84.69%\n",
      "=====> Epoch 21 : \n",
      "Loss Train = 1.337  |  Acc Train = 67.61% \n",
      "Loss Valid = 0.326  |  Acc Valid = 92.66%\n",
      "Loss Test  = 0.478  |  Acc Test = 87.57%\n",
      "=====> Epoch 22 : \n",
      "Loss Train = 1.294  |  Acc Train = 70.02% \n",
      "Loss Valid = 0.296  |  Acc Valid = 93.62%\n",
      "Loss Test  = 0.542  |  Acc Test = 84.17%\n",
      "=====> Epoch 23 : \n",
      "Loss Train = 1.318  |  Acc Train = 68.78% \n",
      "Loss Valid = 0.321  |  Acc Valid = 93.69%\n",
      "Loss Test  = 0.548  |  Acc Test = 84.01%\n",
      "=====> Epoch 24 : \n",
      "Loss Train = 1.321  |  Acc Train = 68.52% \n",
      "Loss Valid = 0.296  |  Acc Valid = 95.30%\n",
      "Loss Test  = 0.507  |  Acc Test = 87.79%\n",
      "# Saving best model...\n",
      "=====> Epoch 25 : \n",
      "Loss Train = 1.272  |  Acc Train = 69.37% \n",
      "Loss Valid = 0.304  |  Acc Valid = 93.80%\n",
      "Loss Test  = 0.566  |  Acc Test = 83.71%\n",
      "=====> Epoch 26 : \n",
      "Loss Train = 1.288  |  Acc Train = 69.62% \n",
      "Loss Valid = 0.284  |  Acc Valid = 95.00%\n",
      "Loss Test  = 0.497  |  Acc Test = 86.01%\n",
      "# Saving best model...\n",
      "=====> Epoch 27 : \n",
      "Loss Train = 1.272  |  Acc Train = 70.65% \n",
      "Loss Valid = 0.282  |  Acc Valid = 95.07%\n",
      "Loss Test  = 0.504  |  Acc Test = 86.24%\n",
      "# Saving best model...\n",
      "=====> Epoch 28 : \n",
      "Loss Train = 1.245  |  Acc Train = 71.42% \n",
      "Loss Valid = 0.268  |  Acc Valid = 95.18%\n",
      "Loss Test  = 0.521  |  Acc Test = 85.92%\n",
      "# Saving best model...\n",
      "=====> Epoch 29 : \n",
      "Loss Train = 1.226  |  Acc Train = 71.97% \n",
      "Loss Valid = 0.253  |  Acc Valid = 95.61%\n",
      "Loss Test  = 0.485  |  Acc Test = 86.46%\n",
      "# Saving best model...\n",
      "=====> Epoch 30 : \n",
      "Loss Train = 1.240  |  Acc Train = 71.11% \n",
      "Loss Valid = 0.230  |  Acc Valid = 95.91%\n",
      "Loss Test  = 0.492  |  Acc Test = 85.81%\n",
      "# Saving best model...\n",
      "=====> Epoch 31 : \n",
      "Loss Train = 1.224  |  Acc Train = 72.54% \n",
      "Loss Valid = 0.235  |  Acc Valid = 95.85%\n",
      "Loss Test  = 0.472  |  Acc Test = 87.05%\n",
      "=====> Epoch 32 : \n",
      "Loss Train = 1.199  |  Acc Train = 72.80% \n",
      "Loss Valid = 0.218  |  Acc Valid = 96.21%\n",
      "Loss Test  = 0.462  |  Acc Test = 88.11%\n",
      "# Saving best model...\n",
      "=====> Epoch 33 : \n",
      "Loss Train = 1.162  |  Acc Train = 74.39% \n",
      "Loss Valid = 0.226  |  Acc Valid = 95.31%\n",
      "Loss Test  = 0.479  |  Acc Test = 86.14%\n",
      "=====> Epoch 34 : \n",
      "Loss Train = 1.188  |  Acc Train = 73.82% \n",
      "Loss Valid = 0.200  |  Acc Valid = 96.63%\n",
      "Loss Test  = 0.464  |  Acc Test = 86.95%\n",
      "# Saving best model...\n",
      "=====> Epoch 35 : \n",
      "Loss Train = 1.164  |  Acc Train = 73.98% \n",
      "Loss Valid = 0.189  |  Acc Valid = 97.23%\n",
      "Loss Test  = 0.454  |  Acc Test = 87.46%\n",
      "# Saving best model...\n",
      "=====> Epoch 36 : \n",
      "Loss Train = 1.168  |  Acc Train = 74.25% \n",
      "Loss Valid = 0.192  |  Acc Valid = 96.88%\n",
      "Loss Test  = 0.433  |  Acc Test = 88.30%\n",
      "=====> Epoch 37 : \n",
      "Loss Train = 1.176  |  Acc Train = 74.53% \n",
      "Loss Valid = 0.182  |  Acc Valid = 97.06%\n",
      "Loss Test  = 0.479  |  Acc Test = 86.88%\n",
      "# Saving best model...\n",
      "=====> Epoch 38 : \n",
      "Loss Train = 1.129  |  Acc Train = 75.66% \n",
      "Loss Valid = 0.181  |  Acc Valid = 97.12%\n",
      "Loss Test  = 0.456  |  Acc Test = 87.60%\n",
      "# Saving best model...\n",
      "=====> Epoch 39 : \n",
      "Loss Train = 1.149  |  Acc Train = 74.94% \n",
      "Loss Valid = 0.169  |  Acc Valid = 97.18%\n",
      "Loss Test  = 0.463  |  Acc Test = 87.02%\n",
      "# Saving best model...\n",
      "=====> Epoch 40 : \n",
      "Loss Train = 1.125  |  Acc Train = 75.11% \n",
      "Loss Valid = 0.169  |  Acc Valid = 97.60%\n",
      "Loss Test  = 0.464  |  Acc Test = 87.21%\n",
      "=====> Epoch 41 : \n",
      "Loss Train = 1.126  |  Acc Train = 75.62% \n",
      "Loss Valid = 0.163  |  Acc Valid = 97.65%\n",
      "Loss Test  = 0.459  |  Acc Test = 87.07%\n",
      "# Saving best model...\n",
      "=====> Epoch 42 : \n",
      "Loss Train = 1.110  |  Acc Train = 76.44% \n",
      "Loss Valid = 0.161  |  Acc Valid = 98.07%\n",
      "Loss Test  = 0.458  |  Acc Test = 87.41%\n",
      "# Saving best model...\n",
      "=====> Epoch 43 : \n",
      "Loss Train = 1.110  |  Acc Train = 76.09% \n",
      "Loss Valid = 0.158  |  Acc Valid = 98.20%\n",
      "Loss Test  = 0.439  |  Acc Test = 87.70%\n",
      "# Saving best model...\n",
      "=====> Epoch 44 : \n",
      "Loss Train = 1.119  |  Acc Train = 76.63% \n",
      "Loss Valid = 0.156  |  Acc Valid = 98.20%\n",
      "Loss Test  = 0.440  |  Acc Test = 87.59%\n",
      "# Saving best model...\n",
      "=====> Epoch 45 : \n",
      "Loss Train = 1.116  |  Acc Train = 76.40% \n",
      "Loss Valid = 0.159  |  Acc Valid = 97.96%\n",
      "Loss Test  = 0.454  |  Acc Test = 87.69%\n",
      "=====> Epoch 46 : \n",
      "Loss Train = 1.089  |  Acc Train = 77.49% \n",
      "Loss Valid = 0.158  |  Acc Valid = 97.77%\n",
      "Loss Test  = 0.443  |  Acc Test = 87.33%\n",
      "=====> Epoch 47 : \n",
      "Loss Train = 1.113  |  Acc Train = 76.75% \n",
      "Loss Valid = 0.157  |  Acc Valid = 98.13%\n",
      "Loss Test  = 0.441  |  Acc Test = 87.33%\n",
      "=====> Epoch 48 : \n",
      "Loss Train = 1.103  |  Acc Train = 76.54% \n",
      "Loss Valid = 0.153  |  Acc Valid = 98.13%\n",
      "Loss Test  = 0.450  |  Acc Test = 87.50%\n",
      "# Saving best model...\n",
      "=====> Epoch 49 : \n",
      "Loss Train = 1.104  |  Acc Train = 77.04% \n",
      "Loss Valid = 0.155  |  Acc Valid = 97.95%\n",
      "Loss Test  = 0.443  |  Acc Test = 87.24%\n"
     ]
    }
   ],
   "source": [
    "train_loader, valid_loader, test_loader = SHD_dataloaders(config)\n",
    "model.train_model(train_loader, valid_loader, test_loader, device)"
   ]
  },
  {
   "cell_type": "code",
   "execution_count": 6,
   "metadata": {},
   "outputs": [
    {
     "ename": "AttributeError",
     "evalue": "'SnnDelays' object has no attribute 'device'",
     "output_type": "error",
     "traceback": [
      "\u001b[0;31m---------------------------------------------------------------------------\u001b[0m",
      "\u001b[0;31mAttributeError\u001b[0m                            Traceback (most recent call last)",
      "Cell \u001b[0;32mIn[6], line 1\u001b[0m\n\u001b[0;32m----> 1\u001b[0m model\u001b[39m.\u001b[39;49mdevice\n",
      "File \u001b[0;32m~/anaconda3/envs/snn-delays/lib/python3.10/site-packages/torch/nn/modules/module.py:1614\u001b[0m, in \u001b[0;36mModule.__getattr__\u001b[0;34m(self, name)\u001b[0m\n\u001b[1;32m   1612\u001b[0m     \u001b[39mif\u001b[39;00m name \u001b[39min\u001b[39;00m modules:\n\u001b[1;32m   1613\u001b[0m         \u001b[39mreturn\u001b[39;00m modules[name]\n\u001b[0;32m-> 1614\u001b[0m \u001b[39mraise\u001b[39;00m \u001b[39mAttributeError\u001b[39;00m(\u001b[39m\"\u001b[39m\u001b[39m'\u001b[39m\u001b[39m{}\u001b[39;00m\u001b[39m'\u001b[39m\u001b[39m object has no attribute \u001b[39m\u001b[39m'\u001b[39m\u001b[39m{}\u001b[39;00m\u001b[39m'\u001b[39m\u001b[39m\"\u001b[39m\u001b[39m.\u001b[39mformat(\n\u001b[1;32m   1615\u001b[0m     \u001b[39mtype\u001b[39m(\u001b[39mself\u001b[39m)\u001b[39m.\u001b[39m\u001b[39m__name__\u001b[39m, name))\n",
      "\u001b[0;31mAttributeError\u001b[0m: 'SnnDelays' object has no attribute 'device'"
     ]
    }
   ],
   "source": [
    "model.device"
   ]
  },
  {
   "cell_type": "code",
   "execution_count": 3,
   "metadata": {},
   "outputs": [
    {
     "data": {
      "image/png": "[encoded data removed]",
      "text/plain": [
       "<Figure size 640x480 with 1 Axes>"
      ]
     },
     "metadata": {},
     "output_type": "display_data"
    }
   ],
   "source": [
    "import matplotlib.pyplot as plt\n",
    "from datasets import Augs\n",
    "\n",
    "augmentations = Augs(config)\n",
    "\n",
    "for i, (x, y, _) in enumerate(train_loader):\n",
    "\n",
    "    x,y = augmentations(x, y)\n",
    "\n",
    "    plt.imshow(x[0].T, aspect='auto')\n",
    "    break"
   ]
  },
  {
   "cell_type": "code",
   "execution_count": 4,
   "metadata": {},
   "outputs": [
    {
     "name": "stdout",
     "output_type": "stream",
     "text": [
      "The directory [../Datasets/SHD/extract] for saving extracted files already exists.\n",
      "SpikingJelly will not check the data integrity of extracted files.\n",
      "If extracted files are not integrated, please delete [../Datasets/SHD/extract] manually, then SpikingJelly will re-extract files from [../Datasets/SHD/download].\n",
      "The directory [../Datasets/SHD/duration_25] already exists.\n",
      "The directory [../Datasets/SHD/extract] for saving extracted files already exists.\n",
      "SpikingJelly will not check the data integrity of extracted files.\n",
      "If extracted files are not integrated, please delete [../Datasets/SHD/extract] manually, then SpikingJelly will re-extract files from [../Datasets/SHD/download].\n",
      "The directory [../Datasets/SHD/duration_25] already exists.\n"
     ]
    },
    {
     "ename": "RuntimeError",
     "evalue": "Error(s) in loading state_dict for SnnDelays:\n\tWhile copying the parameter named \"model.0.GCK.I\", whose dimensions in the model are torch.Size([13, 1, 64, 70, 1]) and whose dimensions in the checkpoint are torch.Size([13, 1, 64, 70, 1]), an exception occurred : ('unsupported operation: more than one element of the written-to tensor refers to a single memory location. Please clone() the tensor before performing the operation.',).\n\tWhile copying the parameter named \"model.0.GCK.lim\", whose dimensions in the model are torch.Size([1, 64, 70, 1]) and whose dimensions in the checkpoint are torch.Size([1, 64, 70, 1]), an exception occurred : ('unsupported operation: more than one element of the written-to tensor refers to a single memory location. Please clone() the tensor before performing the operation.',).\n\tWhile copying the parameter named \"model.5.GCK.I\", whose dimensions in the model are torch.Size([13, 1, 64, 64, 1]) and whose dimensions in the checkpoint are torch.Size([13, 1, 64, 64, 1]), an exception occurred : ('unsupported operation: more than one element of the written-to tensor refers to a single memory location. Please clone() the tensor before performing the operation.',).\n\tWhile copying the parameter named \"model.5.GCK.lim\", whose dimensions in the model are torch.Size([1, 64, 64, 1]) and whose dimensions in the checkpoint are torch.Size([1, 64, 64, 1]), an exception occurred : ('unsupported operation: more than one element of the written-to tensor refers to a single memory location. Please clone() the tensor before performing the operation.',).\n\tWhile copying the parameter named \"model.10.GCK.I\", whose dimensions in the model are torch.Size([13, 1, 20, 64, 1]) and whose dimensions in the checkpoint are torch.Size([13, 1, 20, 64, 1]), an exception occurred : ('unsupported operation: more than one element of the written-to tensor refers to a single memory location. Please clone() the tensor before performing the operation.',).\n\tWhile copying the parameter named \"model.10.GCK.lim\", whose dimensions in the model are torch.Size([1, 20, 64, 1]) and whose dimensions in the checkpoint are torch.Size([1, 20, 64, 1]), an exception occurred : ('unsupported operation: more than one element of the written-to tensor refers to a single memory location. Please clone() the tensor before performing the operation.',).",
     "output_type": "error",
     "traceback": [
      "\u001b[0;31m---------------------------------------------------------------------------\u001b[0m",
      "\u001b[0;31mRuntimeError\u001b[0m                              Traceback (most recent call last)",
      "Cell \u001b[0;32mIn[4], line 2\u001b[0m\n\u001b[1;32m      1\u001b[0m train_loader, valid_loader, test_loader \u001b[39m=\u001b[39m SHD_dataloaders(config)\n\u001b[0;32m----> 2\u001b[0m model\u001b[39m.\u001b[39;49mfine_tune(train_loader, valid_loader, test_loader, device)\n",
      "File \u001b[0;32m~/PhD/snn-delays/SNN-delays/model.py:136\u001b[0m, in \u001b[0;36mModel.fine_tune\u001b[0;34m(self, train_loader, valid_loader, test_loader, device)\u001b[0m\n\u001b[1;32m    134\u001b[0m \u001b[39mself\u001b[39m\u001b[39m.\u001b[39m\u001b[39m__init__\u001b[39m(\u001b[39mself\u001b[39m\u001b[39m.\u001b[39mconfig)\n\u001b[1;32m    135\u001b[0m \u001b[39mself\u001b[39m\u001b[39m.\u001b[39mto(device)\n\u001b[0;32m--> 136\u001b[0m \u001b[39mself\u001b[39;49m\u001b[39m.\u001b[39;49mload_state_dict(torch\u001b[39m.\u001b[39;49mload(\u001b[39mself\u001b[39;49m\u001b[39m.\u001b[39;49mconfig\u001b[39m.\u001b[39;49msave_model_path), strict\u001b[39m=\u001b[39;49m\u001b[39mFalse\u001b[39;49;00m)\n\u001b[1;32m    137\u001b[0m \u001b[39mself\u001b[39m\u001b[39m.\u001b[39mround_pos()\n\u001b[1;32m    140\u001b[0m \u001b[39mself\u001b[39m\u001b[39m.\u001b[39mconfig\u001b[39m.\u001b[39msave_model_path \u001b[39m=\u001b[39m \u001b[39mself\u001b[39m\u001b[39m.\u001b[39mconfig\u001b[39m.\u001b[39msave_model_path_finetuning\n",
      "File \u001b[0;32m~/anaconda3/envs/snn-delays/lib/python3.10/site-packages/torch/nn/modules/module.py:2041\u001b[0m, in \u001b[0;36mModule.load_state_dict\u001b[0;34m(self, state_dict, strict)\u001b[0m\n\u001b[1;32m   2036\u001b[0m         error_msgs\u001b[39m.\u001b[39minsert(\n\u001b[1;32m   2037\u001b[0m             \u001b[39m0\u001b[39m, \u001b[39m'\u001b[39m\u001b[39mMissing key(s) in state_dict: \u001b[39m\u001b[39m{}\u001b[39;00m\u001b[39m. \u001b[39m\u001b[39m'\u001b[39m\u001b[39m.\u001b[39mformat(\n\u001b[1;32m   2038\u001b[0m                 \u001b[39m'\u001b[39m\u001b[39m, \u001b[39m\u001b[39m'\u001b[39m\u001b[39m.\u001b[39mjoin(\u001b[39m'\u001b[39m\u001b[39m\"\u001b[39m\u001b[39m{}\u001b[39;00m\u001b[39m\"\u001b[39m\u001b[39m'\u001b[39m\u001b[39m.\u001b[39mformat(k) \u001b[39mfor\u001b[39;00m k \u001b[39min\u001b[39;00m missing_keys)))\n\u001b[1;32m   2040\u001b[0m \u001b[39mif\u001b[39;00m \u001b[39mlen\u001b[39m(error_msgs) \u001b[39m>\u001b[39m \u001b[39m0\u001b[39m:\n\u001b[0;32m-> 2041\u001b[0m     \u001b[39mraise\u001b[39;00m \u001b[39mRuntimeError\u001b[39;00m(\u001b[39m'\u001b[39m\u001b[39mError(s) in loading state_dict for \u001b[39m\u001b[39m{}\u001b[39;00m\u001b[39m:\u001b[39m\u001b[39m\\n\u001b[39;00m\u001b[39m\\t\u001b[39;00m\u001b[39m{}\u001b[39;00m\u001b[39m'\u001b[39m\u001b[39m.\u001b[39mformat(\n\u001b[1;32m   2042\u001b[0m                        \u001b[39mself\u001b[39m\u001b[39m.\u001b[39m\u001b[39m__class__\u001b[39m\u001b[39m.\u001b[39m\u001b[39m__name__\u001b[39m, \u001b[39m\"\u001b[39m\u001b[39m\\n\u001b[39;00m\u001b[39m\\t\u001b[39;00m\u001b[39m\"\u001b[39m\u001b[39m.\u001b[39mjoin(error_msgs)))\n\u001b[1;32m   2043\u001b[0m \u001b[39mreturn\u001b[39;00m _IncompatibleKeys(missing_keys, unexpected_keys)\n",
      "\u001b[0;31mRuntimeError\u001b[0m: Error(s) in loading state_dict for SnnDelays:\n\tWhile copying the parameter named \"model.0.GCK.I\", whose dimensions in the model are torch.Size([13, 1, 64, 70, 1]) and whose dimensions in the checkpoint are torch.Size([13, 1, 64, 70, 1]), an exception occurred : ('unsupported operation: more than one element of the written-to tensor refers to a single memory location. Please clone() the tensor before performing the operation.',).\n\tWhile copying the parameter named \"model.0.GCK.lim\", whose dimensions in the model are torch.Size([1, 64, 70, 1]) and whose dimensions in the checkpoint are torch.Size([1, 64, 70, 1]), an exception occurred : ('unsupported operation: more than one element of the written-to tensor refers to a single memory location. Please clone() the tensor before performing the operation.',).\n\tWhile copying the parameter named \"model.5.GCK.I\", whose dimensions in the model are torch.Size([13, 1, 64, 64, 1]) and whose dimensions in the checkpoint are torch.Size([13, 1, 64, 64, 1]), an exception occurred : ('unsupported operation: more than one element of the written-to tensor refers to a single memory location. Please clone() the tensor before performing the operation.',).\n\tWhile copying the parameter named \"model.5.GCK.lim\", whose dimensions in the model are torch.Size([1, 64, 64, 1]) and whose dimensions in the checkpoint are torch.Size([1, 64, 64, 1]), an exception occurred : ('unsupported operation: more than one element of the written-to tensor refers to a single memory location. Please clone() the tensor before performing the operation.',).\n\tWhile copying the parameter named \"model.10.GCK.I\", whose dimensions in the model are torch.Size([13, 1, 20, 64, 1]) and whose dimensions in the checkpoint are torch.Size([13, 1, 20, 64, 1]), an exception occurred : ('unsupported operation: more than one element of the written-to tensor refers to a single memory location. Please clone() the tensor before performing the operation.',).\n\tWhile copying the parameter named \"model.10.GCK.lim\", whose dimensions in the model are torch.Size([1, 20, 64, 1]) and whose dimensions in the checkpoint are torch.Size([1, 20, 64, 1]), an exception occurred : ('unsupported operation: more than one element of the written-to tensor refers to a single memory location. Please clone() the tensor before performing the operation.',)."
     ]
    }
   ],
   "source": [
    "train_loader, valid_loader, test_loader = SHD_dataloaders(config)\n",
    "model.fine_tune(train_loader, valid_loader, test_loader, device)"
   ]
  },
  {
   "cell_type": "code",
   "execution_count": null,
   "metadata": {},
   "outputs": [],
   "source": []
  }
 ],
 "metadata": {
  "kernelspec": {
   "display_name": "snn-delays",
   "language": "python",
   "name": "python3"
  },
  "language_info": {
   "codemirror_mode": {
    "name": "ipython",
    "version": 3
   },
   "file_extension": ".py",
   "mimetype": "text/x-python",
   "name": "python",
   "nbconvert_exporter": "python",
   "pygments_lexer": "ipython3",
   "version": "3.10.9"
  },
  "orig_nbformat": 4
 },
 "nbformat": 4,
 "nbformat_minor": 2
}
