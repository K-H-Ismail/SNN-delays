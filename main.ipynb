{
 "cells": [
  {
   "cell_type": "code",
   "execution_count": 1,
   "metadata": {},
   "outputs": [],
   "source": [
    "from datasets import SHD_dataloaders\n",
    "from config import Config\n",
    "from models import ANN\n",
    "import torch"
   ]
  },
  {
   "cell_type": "code",
   "execution_count": 2,
   "metadata": {},
   "outputs": [
    {
     "name": "stdout",
     "output_type": "stream",
     "text": [
      "The directory [../Datasets/extract] for saving extracted files already exists.\n",
      "SpikingJelly will not check the data integrity of extracted files.\n",
      "If extracted files are not integrated, please delete [../Datasets/extract] manually, then SpikingJelly will re-extract files from [../Datasets/download].\n",
      "The directory [../Datasets/duration_50] already exists.\n",
      "The directory [../Datasets/extract] for saving extracted files already exists.\n",
      "SpikingJelly will not check the data integrity of extracted files.\n",
      "If extracted files are not integrated, please delete [../Datasets/extract] manually, then SpikingJelly will re-extract files from [../Datasets/download].\n",
      "The directory [../Datasets/duration_50] already exists.\n"
     ]
    }
   ],
   "source": [
    "config = Config()\n",
    "train_loader, valid_loader = SHD_dataloaders(config)\n",
    "model = ANN(config)"
   ]
  },
  {
   "cell_type": "code",
   "execution_count": 3,
   "metadata": {},
   "outputs": [
    {
     "name": "stdout",
     "output_type": "stream",
     "text": [
      "=====> Epoch 0 : \n",
      "Loss Train = 2.886  |  Best Acc Train = 10.88% \n",
      "Loss Test = 2.969  |  Best Acc Test = 9.46%\n",
      "=====> Epoch 1 : \n",
      "Loss Train = 2.674  |  Best Acc Train = 20.51% \n",
      "Loss Test = 2.838  |  Best Acc Test = 14.11%\n",
      "=====> Epoch 2 : \n",
      "Loss Train = 2.503  |  Best Acc Train = 28.51% \n",
      "Loss Test = 2.729  |  Best Acc Test = 17.62%\n",
      "=====> Epoch 3 : \n",
      "Loss Train = 2.337  |  Best Acc Train = 34.28% \n",
      "Loss Test = 2.597  |  Best Acc Test = 19.75%\n",
      "=====> Epoch 4 : \n",
      "Loss Train = 2.204  |  Best Acc Train = 38.66% \n",
      "Loss Test = 2.379  |  Best Acc Test = 25.56%\n",
      "=====> Epoch 5 : \n",
      "Loss Train = 2.077  |  Best Acc Train = 41.69% \n",
      "Loss Test = 2.568  |  Best Acc Test = 25.56%\n",
      "=====> Epoch 6 : \n",
      "Loss Train = 1.959  |  Best Acc Train = 44.25% \n",
      "Loss Test = 2.303  |  Best Acc Test = 30.73%\n",
      "=====> Epoch 7 : \n",
      "Loss Train = 1.862  |  Best Acc Train = 46.73% \n",
      "Loss Test = 2.206  |  Best Acc Test = 34.38%\n",
      "=====> Epoch 8 : \n",
      "Loss Train = 1.783  |  Best Acc Train = 48.54% \n",
      "Loss Test = 2.277  |  Best Acc Test = 34.38%\n",
      "=====> Epoch 9 : \n",
      "Loss Train = 1.712  |  Best Acc Train = 50.87% \n",
      "Loss Test = 2.517  |  Best Acc Test = 34.38%\n"
     ]
    }
   ],
   "source": [
    "device = torch.device(\"cuda\" if torch.cuda.is_available() else \"cpu\")\n",
    "model.train_model(train_loader, valid_loader, device)"
   ]
  },
  {
   "cell_type": "code",
   "execution_count": null,
   "metadata": {},
   "outputs": [],
   "source": []
  }
 ],
 "metadata": {
  "kernelspec": {
   "display_name": "snn-delays",
   "language": "python",
   "name": "python3"
  },
  "language_info": {
   "codemirror_mode": {
    "name": "ipython",
    "version": 3
   },
   "file_extension": ".py",
   "mimetype": "text/x-python",
   "name": "python",
   "nbconvert_exporter": "python",
   "pygments_lexer": "ipython3",
   "version": "3.9.16"
  },
  "orig_nbformat": 4
 },
 "nbformat": 4,
 "nbformat_minor": 2
}
