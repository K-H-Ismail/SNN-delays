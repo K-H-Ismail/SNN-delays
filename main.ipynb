{
 "cells": [
  {
   "cell_type": "code",
   "execution_count": 1,
   "metadata": {},
   "outputs": [
    {
     "name": "stdout",
     "output_type": "stream",
     "text": [
      "\n",
      "===> Device = cpu\n"
     ]
    }
   ],
   "source": [
    "from datasets import SHD_dataloaders, SSC_dataloaders\n",
    "from config import Config\n",
    "from ann import ANN\n",
    "from snn_delays import SnnDelays\n",
    "import torch\n",
    "\n",
    "device = torch.device(\"cuda\" if torch.cuda.is_available() else \"cpu\")\n",
    "print(f\"\\n===> Device = {device}\")\n",
    "\n",
    "config = Config()\n",
    "\n",
    "model = SnnDelays(config).to(device)"
   ]
  },
  {
   "cell_type": "code",
   "execution_count": 2,
   "metadata": {},
   "outputs": [
    {
     "name": "stdout",
     "output_type": "stream",
     "text": [
      "The directory [../Datasets/SHD/extract] for saving extracted files already exists.\n",
      "SpikingJelly will not check the data integrity of extracted files.\n",
      "If extracted files are not integrated, please delete [../Datasets/SHD/extract] manually, then SpikingJelly will re-extract files from [../Datasets/SHD/download].\n",
      "The directory [../Datasets/SHD/duration_25] already exists.\n",
      "The directory [../Datasets/SHD/extract] for saving extracted files already exists.\n",
      "SpikingJelly will not check the data integrity of extracted files.\n",
      "If extracted files are not integrated, please delete [../Datasets/SHD/extract] manually, then SpikingJelly will re-extract files from [../Datasets/SHD/download].\n",
      "The directory [../Datasets/SHD/duration_25] already exists.\n"
     ]
    }
   ],
   "source": [
    "train_loader, valid_loader, test_loader = SHD_dataloaders(config)"
   ]
  },
  {
   "cell_type": "code",
   "execution_count": 20,
   "metadata": {},
   "outputs": [
    {
     "data": {
      "image/png": "[encoded data removed]",
      "text/plain": [
       "<Figure size 640x480 with 1 Axes>"
      ]
     },
     "metadata": {},
     "output_type": "display_data"
    }
   ],
   "source": [
    "import matplotlib.pyplot as plt\n",
    "from datasets import Augs\n",
    "\n",
    "augmentations = Augs(config)\n",
    "\n",
    "for i, (x, y, _) in enumerate(train_loader):\n",
    "    x = augmentations(x)\n",
    "    plt.imshow(x[0].T, aspect='auto')\n",
    "    break"
   ]
  },
  {
   "cell_type": "code",
   "execution_count": 2,
   "metadata": {},
   "outputs": [
    {
     "name": "stdout",
     "output_type": "stream",
     "text": [
      "The directory [../Datasets/SHD/extract] for saving extracted files already exists.\n",
      "SpikingJelly will not check the data integrity of extracted files.\n",
      "If extracted files are not integrated, please delete [../Datasets/SHD/extract] manually, then SpikingJelly will re-extract files from [../Datasets/SHD/download].\n",
      "The directory [../Datasets/SHD/duration_25] already exists.\n",
      "The directory [../Datasets/SHD/extract] for saving extracted files already exists.\n",
      "SpikingJelly will not check the data integrity of extracted files.\n",
      "If extracted files are not integrated, please delete [../Datasets/SHD/extract] manually, then SpikingJelly will re-extract files from [../Datasets/SHD/download].\n",
      "The directory [../Datasets/SHD/duration_25] already exists.\n",
      "torch.Size([38, 70])\n",
      "torch.Size([38, 70])\n",
      "torch.Size([38, 70])\n",
      "torch.Size([38, 70])\n",
      "torch.Size([38, 70])\n",
      "torch.Size([38, 70])\n",
      "torch.Size([38, 70])\n",
      "torch.Size([38, 70])\n",
      "torch.Size([38, 70])\n",
      "torch.Size([38, 70])\n",
      "torch.Size([38, 70])\n",
      "torch.Size([38, 70])\n",
      "torch.Size([38, 70])\n",
      "torch.Size([38, 70])\n",
      "torch.Size([38, 70])\n",
      "torch.Size([38, 70])\n",
      "torch.Size([38, 70])\n",
      "torch.Size([38, 70])\n",
      "torch.Size([38, 70])\n",
      "torch.Size([38, 70])\n",
      "torch.Size([38, 70])\n",
      "torch.Size([38, 70])\n",
      "torch.Size([38, 70])\n",
      "torch.Size([38, 70])\n",
      "torch.Size([38, 70])\n",
      "torch.Size([38, 70])\n",
      "torch.Size([38, 70])\n",
      "torch.Size([38, 70])\n",
      "torch.Size([38, 70])\n",
      "torch.Size([38, 70])\n",
      "torch.Size([38, 70])\n",
      "torch.Size([38, 70])\n",
      "torch.Size([38, 70])\n",
      "torch.Size([38, 70])\n",
      "torch.Size([38, 70])\n",
      "torch.Size([38, 70])\n",
      "torch.Size([38, 70])\n",
      "torch.Size([38, 70])\n",
      "torch.Size([38, 70])\n",
      "torch.Size([38, 70])\n",
      "torch.Size([38, 70])\n",
      "torch.Size([38, 70])\n",
      "torch.Size([38, 70])\n",
      "torch.Size([38, 70])\n",
      "torch.Size([38, 70])\n",
      "torch.Size([38, 70])\n",
      "torch.Size([38, 70])\n",
      "torch.Size([38, 70])\n",
      "torch.Size([38, 70])\n",
      "torch.Size([38, 70])\n",
      "torch.Size([38, 70])\n",
      "torch.Size([38, 70])\n",
      "torch.Size([38, 70])\n",
      "torch.Size([38, 70])\n",
      "torch.Size([38, 70])\n",
      "torch.Size([38, 70])\n",
      "torch.Size([38, 70])\n",
      "torch.Size([38, 70])\n",
      "torch.Size([38, 70])\n",
      "torch.Size([38, 70])\n",
      "torch.Size([38, 70])\n",
      "torch.Size([38, 70])\n",
      "torch.Size([38, 70])\n",
      "torch.Size([38, 70])\n"
     ]
    },
    {
     "ename": "AttributeError",
     "evalue": "'NoneType' object has no attribute 'permute'",
     "output_type": "error",
     "traceback": [
      "\u001b[0;31m---------------------------------------------------------------------------\u001b[0m",
      "\u001b[0;31mAttributeError\u001b[0m                            Traceback (most recent call last)",
      "Cell \u001b[0;32mIn[2], line 2\u001b[0m\n\u001b[1;32m      1\u001b[0m train_loader, valid_loader, test_loader \u001b[39m=\u001b[39m SHD_dataloaders(config)\n\u001b[0;32m----> 2\u001b[0m model\u001b[39m.\u001b[39;49mtrain_model(train_loader, valid_loader, test_loader, device)\n",
      "File \u001b[0;32m~/PhD/snn-delays/SNN-delays/model.py:187\u001b[0m, in \u001b[0;36mModel.train_model\u001b[0;34m(self, train_loader, valid_loader, test_loader, device)\u001b[0m\n\u001b[1;32m    184\u001b[0m \u001b[39mif\u001b[39;00m \u001b[39mself\u001b[39m\u001b[39m.\u001b[39mconfig\u001b[39m.\u001b[39maugment:\n\u001b[1;32m    185\u001b[0m     x \u001b[39m=\u001b[39m augmentations(x)\n\u001b[0;32m--> 187\u001b[0m x \u001b[39m=\u001b[39m x\u001b[39m.\u001b[39;49mpermute(\u001b[39m1\u001b[39m,\u001b[39m0\u001b[39m,\u001b[39m2\u001b[39m)\u001b[39m.\u001b[39mfloat()\u001b[39m.\u001b[39mto(device)  \u001b[39m#(time, batch, neurons)\u001b[39;00m\n\u001b[1;32m    188\u001b[0m y \u001b[39m=\u001b[39m y\u001b[39m.\u001b[39mto(device)\n\u001b[1;32m    190\u001b[0m \u001b[39mfor\u001b[39;00m opt \u001b[39min\u001b[39;00m optimizers: opt\u001b[39m.\u001b[39mzero_grad()\n",
      "\u001b[0;31mAttributeError\u001b[0m: 'NoneType' object has no attribute 'permute'"
     ]
    }
   ],
   "source": [
    "train_loader, valid_loader, test_loader = SHD_dataloaders(config)\n",
    "model.train_model(train_loader, valid_loader, test_loader, device)"
   ]
  },
  {
   "cell_type": "code",
   "execution_count": null,
   "metadata": {},
   "outputs": [
    {
     "name": "stderr",
     "output_type": "stream",
     "text": [
      "ERROR:wandb.jupyter:Failed to detect the name of this notebook, you can set it manually with the WANDB_NOTEBOOK_NAME environment variable to enable code saving.\n"
     ]
    },
    {
     "name": "stdout",
     "output_type": "stream",
     "text": [
      "The directory [../Datasets/SHD/extract] for saving extracted files already exists.\n",
      "SpikingJelly will not check the data integrity of extracted files.\n",
      "If extracted files are not integrated, please delete [../Datasets/SHD/extract] manually, then SpikingJelly will re-extract files from [../Datasets/SHD/download].\n",
      "The directory [../Datasets/SHD/duration_25] already exists.\n",
      "The directory [../Datasets/SHD/extract] for saving extracted files already exists.\n",
      "SpikingJelly will not check the data integrity of extracted files.\n",
      "If extracted files are not integrated, please delete [../Datasets/SHD/extract] manually, then SpikingJelly will re-extract files from [../Datasets/SHD/download].\n",
      "The directory [../Datasets/SHD/duration_25] already exists.\n"
     ]
    },
    {
     "name": "stderr",
     "output_type": "stream",
     "text": [
      "\u001b[34m\u001b[1mwandb\u001b[0m: Currently logged in as: \u001b[33mthvnvtos\u001b[0m. Use \u001b[1m`wandb login --relogin`\u001b[0m to force relogin\n",
      "\u001b[34m\u001b[1mwandb\u001b[0m: \u001b[33mWARNING\u001b[0m If you're specifying your api key in code, ensure this code is not shared publicly.\n",
      "\u001b[34m\u001b[1mwandb\u001b[0m: \u001b[33mWARNING\u001b[0m Consider setting the WANDB_API_KEY environment variable, or running `wandb login` from the command line.\n",
      "\u001b[34m\u001b[1mwandb\u001b[0m: Appending key for api.wandb.ai to your netrc file: /home/thanatos/.netrc\n"
     ]
    },
    {
     "data": {
      "text/html": [
       "wandb version 0.15.0 is available!  To upgrade, please run:\n",
       " $ pip install wandb --upgrade"
      ],
      "text/plain": [
       "<IPython.core.display.HTML object>"
      ]
     },
     "metadata": {},
     "output_type": "display_data"
    },
    {
     "data": {
      "text/html": [
       "Tracking run with wandb version 0.14.2"
      ],
      "text/plain": [
       "<IPython.core.display.HTML object>"
      ]
     },
     "metadata": {},
     "output_type": "display_data"
    },
    {
     "data": {
      "text/html": [
       "Run data is saved locally in <code>/home/thanatos/PhD/snn-delays/SNN-delays/wandb/run-20230420_195033-2v89iegl</code>"
      ],
      "text/plain": [
       "<IPython.core.display.HTML object>"
      ]
     },
     "metadata": {},
     "output_type": "display_data"
    },
    {
     "data": {
      "text/html": [
       "Syncing run <strong><a href='https://wandb.ai/thvnvtos/Models%20comparison/runs/2v89iegl' target=\"_blank\">(Fine-tune_lr=1.0e-04->1.5e-04_dropout=0.5_lif_SS=False)Testing_code||seed=0||snn_delays||shd||25ms||bins=10</a></strong> to <a href='https://wandb.ai/thvnvtos/Models%20comparison' target=\"_blank\">Weights & Biases</a> (<a href='https://wandb.me/run' target=\"_blank\">docs</a>)<br/>"
      ],
      "text/plain": [
       "<IPython.core.display.HTML object>"
      ]
     },
     "metadata": {},
     "output_type": "display_data"
    },
    {
     "data": {
      "text/html": [
       " View project at <a href='https://wandb.ai/thvnvtos/Models%20comparison' target=\"_blank\">https://wandb.ai/thvnvtos/Models%20comparison</a>"
      ],
      "text/plain": [
       "<IPython.core.display.HTML object>"
      ]
     },
     "metadata": {},
     "output_type": "display_data"
    },
    {
     "data": {
      "text/html": [
       " View run at <a href='https://wandb.ai/thvnvtos/Models%20comparison/runs/2v89iegl' target=\"_blank\">https://wandb.ai/thvnvtos/Models%20comparison/runs/2v89iegl</a>"
      ],
      "text/plain": [
       "<IPython.core.display.HTML object>"
      ]
     },
     "metadata": {},
     "output_type": "display_data"
    },
    {
     "name": "stdout",
     "output_type": "stream",
     "text": [
      "=====> Epoch 0 : \n",
      "Loss Train = 1.637  |  Best Acc Train = 49.30% \n",
      "Loss Valid = 0.307  |  Best Acc Valid = 93.87%\n",
      "Loss test = 46.05 | acc test = 87.63\n",
      "# Saving best model...\n",
      "=====> Epoch 1 : \n",
      "Loss Train = 1.638  |  Best Acc Train = 49.65% \n",
      "Loss Valid = 0.308  |  Best Acc Valid = 93.93%\n",
      "Loss test = 46.41 | acc test = 87.54\n",
      "=====> Epoch 2 : \n",
      "Loss Train = 1.582  |  Best Acc Train = 50.60% \n",
      "Loss Valid = 0.317  |  Best Acc Valid = 93.72%\n",
      "Loss test = 46.42 | acc test = 87.18\n",
      "=====> Epoch 3 : \n",
      "Loss Train = 1.549  |  Best Acc Train = 51.60% \n",
      "Loss Valid = 0.322  |  Best Acc Valid = 93.71%\n",
      "Loss test = 46.92 | acc test = 87.45\n",
      "=====> Epoch 4 : \n",
      "Loss Train = 1.530  |  Best Acc Train = 51.89% \n",
      "Loss Valid = 0.327  |  Best Acc Valid = 93.34%\n",
      "Loss test = 46.50 | acc test = 87.17\n",
      "=====> Epoch 5 : \n",
      "Loss Train = 1.501  |  Best Acc Train = 53.36% \n",
      "Loss Valid = 0.327  |  Best Acc Valid = 92.88%\n",
      "Loss test = 46.17 | acc test = 87.51\n",
      "=====> Epoch 6 : \n",
      "Loss Train = 1.532  |  Best Acc Train = 52.34% \n",
      "Loss Valid = 0.328  |  Best Acc Valid = 93.22%\n",
      "Loss test = 46.33 | acc test = 87.56\n",
      "=====> Epoch 7 : \n",
      "Loss Train = 1.522  |  Best Acc Train = 52.12% \n",
      "Loss Valid = 0.332  |  Best Acc Valid = 93.12%\n",
      "Loss test = 46.83 | acc test = 87.04\n",
      "=====> Epoch 8 : \n",
      "Loss Train = 1.536  |  Best Acc Train = 51.63% \n",
      "Loss Valid = 0.326  |  Best Acc Valid = 93.10%\n",
      "Loss test = 46.68 | acc test = 87.57\n",
      "=====> Epoch 9 : \n",
      "Loss Train = 1.505  |  Best Acc Train = 52.40% \n",
      "Loss Valid = 0.329  |  Best Acc Valid = 92.88%\n",
      "Loss test = 46.08 | acc test = 87.47\n"
     ]
    },
    {
     "data": {
      "text/html": [
       "Waiting for W&B process to finish... <strong style=\"color:green\">(success).</strong>"
      ],
      "text/plain": [
       "<IPython.core.display.HTML object>"
      ]
     },
     "metadata": {},
     "output_type": "display_data"
    },
    {
     "data": {
      "text/html": [
       "<style>\n",
       "    table.wandb td:nth-child(1) { padding: 0 10px; text-align: left ; width: auto;} td:nth-child(2) {text-align: left ; width: 100%}\n",
       "    .wandb-row { display: flex; flex-direction: row; flex-wrap: wrap; justify-content: flex-start; width: 100% }\n",
       "    .wandb-col { display: flex; flex-direction: column; flex-basis: 100%; flex: 1; padding: 10px; }\n",
       "    </style>\n",
       "<div class=\"wandb-row\"><div class=\"wandb-col\"><h3>Run history:</h3><br/><table class=\"wandb\"><tr><td>Epoch</td><td>▁▂▃▃▄▅▆▆▇█</td></tr><tr><td>acc_test</td><td>█▇▃▆▃▇▇▁▇▆</td></tr><tr><td>acc_train</td><td>▁▂▃▅▅█▆▆▅▆</td></tr><tr><td>acc_valid</td><td>██▇▇▄▁▃▃▂▁</td></tr><tr><td>loss_test</td><td>▁▄▄█▅▂▃▇▆▁</td></tr><tr><td>loss_train</td><td>██▅▃▃▁▃▂▃▁</td></tr><tr><td>loss_valid</td><td>▁▁▄▅▇▇▇█▆▇</td></tr><tr><td>lr_pos</td><td>▁▁▁▁▁▁▁▁▁▁</td></tr><tr><td>lr_w</td><td>▅██▇▅▄▂▁▁▁</td></tr><tr><td>sigma</td><td>▁▁▁▁▁▁▁▁▁▁</td></tr><tr><td>tau_m_0</td><td>▁▁▁▁▁▁▁▁▁▁</td></tr><tr><td>tau_m_1</td><td>▁▁▁▁▁▁▁▁▁▁</td></tr><tr><td>tau_m_2</td><td>▁▁▁▁▁▁▁▁▁▁</td></tr><tr><td>tau_s_0</td><td>▁▁▁▁▁▁▁▁▁▁</td></tr><tr><td>tau_s_1</td><td>▁▁▁▁▁▁▁▁▁▁</td></tr><tr><td>tau_s_2</td><td>▁▁▁▁▁▁▁▁▁▁</td></tr><tr><td>w_0</td><td>▁▂▃▄▆▇████</td></tr><tr><td>w_1</td><td>▁▂▄▅▆▇████</td></tr><tr><td>w_2</td><td>▁▂▃▄▆▇████</td></tr></table><br/></div><div class=\"wandb-col\"><h3>Run summary:</h3><br/><table class=\"wandb\"><tr><td>Epoch</td><td>9</td></tr><tr><td>acc_test</td><td>0.87468</td></tr><tr><td>acc_train</td><td>0.52398</td></tr><tr><td>acc_valid</td><td>0.9288</td></tr><tr><td>loss_test</td><td>0.46082</td></tr><tr><td>loss_train</td><td>1.5052</td></tr><tr><td>loss_valid</td><td>0.32871</td></tr><tr><td>lr_pos</td><td>0.15</td></tr><tr><td>lr_w</td><td>1e-05</td></tr><tr><td>sigma</td><td>1.0</td></tr><tr><td>tau_m_0</td><td>25.0</td></tr><tr><td>tau_m_1</td><td>25.0</td></tr><tr><td>tau_m_2</td><td>25.0</td></tr><tr><td>tau_s_0</td><td>25.0</td></tr><tr><td>tau_s_1</td><td>25.0</td></tr><tr><td>tau_s_2</td><td>0</td></tr><tr><td>w_0</td><td>0.17181</td></tr><tr><td>w_1</td><td>0.16259</td></tr><tr><td>w_2</td><td>0.28052</td></tr></table><br/></div></div>"
      ],
      "text/plain": [
       "<IPython.core.display.HTML object>"
      ]
     },
     "metadata": {},
     "output_type": "display_data"
    },
    {
     "data": {
      "text/html": [
       " View run <strong style=\"color:#cdcd00\">(Fine-tune_lr=1.0e-04->1.5e-04_dropout=0.5_lif_SS=False)Testing_code||seed=0||snn_delays||shd||25ms||bins=10</strong> at: <a href='https://wandb.ai/thvnvtos/Models%20comparison/runs/2v89iegl' target=\"_blank\">https://wandb.ai/thvnvtos/Models%20comparison/runs/2v89iegl</a><br/>Synced 6 W&B file(s), 0 media file(s), 0 artifact file(s) and 0 other file(s)"
      ],
      "text/plain": [
       "<IPython.core.display.HTML object>"
      ]
     },
     "metadata": {},
     "output_type": "display_data"
    },
    {
     "data": {
      "text/html": [
       "Find logs at: <code>./wandb/run-20230420_195033-2v89iegl/logs</code>"
      ],
      "text/plain": [
       "<IPython.core.display.HTML object>"
      ]
     },
     "metadata": {},
     "output_type": "display_data"
    }
   ],
   "source": [
    "train_loader, valid_loader, test_loader = SHD_dataloaders(config)\n",
    "model.fine_tune(train_loader, valid_loader, test_loader, device)"
   ]
  },
  {
   "cell_type": "code",
   "execution_count": null,
   "metadata": {},
   "outputs": [],
   "source": []
  }
 ],
 "metadata": {
  "kernelspec": {
   "display_name": "snn-delays",
   "language": "python",
   "name": "python3"
  },
  "language_info": {
   "codemirror_mode": {
    "name": "ipython",
    "version": 3
   },
   "file_extension": ".py",
   "mimetype": "text/x-python",
   "name": "python",
   "nbconvert_exporter": "python",
   "pygments_lexer": "ipython3",
   "version": "3.10.9"
  },
  "orig_nbformat": 4
 },
 "nbformat": 4,
 "nbformat_minor": 2
}
