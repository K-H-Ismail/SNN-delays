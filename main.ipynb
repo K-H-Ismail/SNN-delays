{
 "cells": [
  {
   "cell_type": "code",
   "execution_count": 1,
   "metadata": {},
   "outputs": [],
   "source": [
    "from datasets import SHD_dataloaders\n",
    "from config import Config\n",
    "from ann import ANN\n",
    "from snn_delays import SnnDelays, SnnDelays_onlyLast\n",
    "import torch"
   ]
  },
  {
   "cell_type": "code",
   "execution_count": 2,
   "metadata": {},
   "outputs": [
    {
     "name": "stderr",
     "output_type": "stream",
     "text": [
      "ERROR:wandb.jupyter:Failed to detect the name of this notebook, you can set it manually with the WANDB_NOTEBOOK_NAME environment variable to enable code saving.\n"
     ]
    },
    {
     "name": "stdout",
     "output_type": "stream",
     "text": [
      "The directory [../Datasets/extract] for saving extracted files already exists.\n",
      "SpikingJelly will not check the data integrity of extracted files.\n",
      "If extracted files are not integrated, please delete [../Datasets/extract] manually, then SpikingJelly will re-extract files from [../Datasets/download].\n",
      "The directory [../Datasets/duration_20] already exists.\n",
      "The directory [../Datasets/extract] for saving extracted files already exists.\n",
      "SpikingJelly will not check the data integrity of extracted files.\n",
      "If extracted files are not integrated, please delete [../Datasets/extract] manually, then SpikingJelly will re-extract files from [../Datasets/download].\n",
      "The directory [../Datasets/duration_20] already exists.\n"
     ]
    },
    {
     "name": "stderr",
     "output_type": "stream",
     "text": [
      "\u001b[34m\u001b[1mwandb\u001b[0m: Currently logged in as: \u001b[33mthvnvtos\u001b[0m. Use \u001b[1m`wandb login --relogin`\u001b[0m to force relogin\n",
      "\u001b[34m\u001b[1mwandb\u001b[0m: \u001b[33mWARNING\u001b[0m If you're specifying your api key in code, ensure this code is not shared publicly.\n",
      "\u001b[34m\u001b[1mwandb\u001b[0m: \u001b[33mWARNING\u001b[0m Consider setting the WANDB_API_KEY environment variable, or running `wandb login` from the command line.\n",
      "\u001b[34m\u001b[1mwandb\u001b[0m: Appending key for api.wandb.ai to your netrc file: /home/thanatos/.netrc\n"
     ]
    },
    {
     "data": {
      "text/html": [
       "wandb version 0.14.2 is available!  To upgrade, please run:\n",
       " $ pip install wandb --upgrade"
      ],
      "text/plain": [
       "<IPython.core.display.HTML object>"
      ]
     },
     "metadata": {},
     "output_type": "display_data"
    },
    {
     "data": {
      "text/html": [
       "Tracking run with wandb version 0.14.0"
      ],
      "text/plain": [
       "<IPython.core.display.HTML object>"
      ]
     },
     "metadata": {},
     "output_type": "display_data"
    },
    {
     "data": {
      "text/html": [
       "Run data is saved locally in <code>/home/thanatos/PhD/snn-delays/SNN-delays/wandb/run-20230411_141234-83s7f7kg</code>"
      ],
      "text/plain": [
       "<IPython.core.display.HTML object>"
      ]
     },
     "metadata": {},
     "output_type": "display_data"
    },
    {
     "data": {
      "text/html": [
       "Syncing run <strong><a href='https://wandb.ai/thvnvtos/SHD-BestACC/runs/83s7f7kg' target=\"_blank\">SOTA||shd||snn_delays_lr0||sum||MaxDelay=21||neuron=lif||seed=0</a></strong> to <a href='https://wandb.ai/thvnvtos/SHD-BestACC' target=\"_blank\">Weights & Biases</a> (<a href='https://wandb.me/run' target=\"_blank\">docs</a>)<br/>"
      ],
      "text/plain": [
       "<IPython.core.display.HTML object>"
      ]
     },
     "metadata": {},
     "output_type": "display_data"
    },
    {
     "data": {
      "text/html": [
       " View project at <a href='https://wandb.ai/thvnvtos/SHD-BestACC' target=\"_blank\">https://wandb.ai/thvnvtos/SHD-BestACC</a>"
      ],
      "text/plain": [
       "<IPython.core.display.HTML object>"
      ]
     },
     "metadata": {},
     "output_type": "display_data"
    },
    {
     "data": {
      "text/html": [
       " View run at <a href='https://wandb.ai/thvnvtos/SHD-BestACC/runs/83s7f7kg' target=\"_blank\">https://wandb.ai/thvnvtos/SHD-BestACC/runs/83s7f7kg</a>"
      ],
      "text/plain": [
       "<IPython.core.display.HTML object>"
      ]
     },
     "metadata": {},
     "output_type": "display_data"
    },
    {
     "name": "stderr",
     "output_type": "stream",
     "text": [
      "/home/thanatos/anaconda3/envs/snn-delays/lib/python3.9/site-packages/DCLG/Conv.py:325: UserWarning: __floordiv__ is deprecated, and its behavior will change in a future version of pytorch. It currently rounds toward 0 (like the 'trunc' function NOT 'floor'). This results in incorrect rounding for negative values. To keep the current behavior, use torch.div(a, b, rounding_mode='trunc'), or for actual floor division, use torch.div(a, b, rounding_mode='floor').\n",
      "  P = P + self.lim // 2\n"
     ]
    },
    {
     "name": "stdout",
     "output_type": "stream",
     "text": [
      "=====> Epoch 0 : \n",
      "Loss Train = 2.964  |  Best Acc Train = 16.45% \n",
      "Loss Test = 1.919  |  Best Acc Test = 44.07%\n",
      "=====> Epoch 1 : \n",
      "Loss Train = 1.929  |  Best Acc Train = 41.02% \n",
      "Loss Test = 1.241  |  Best Acc Test = 61.04%\n",
      "=====> Epoch 2 : \n",
      "Loss Train = 1.270  |  Best Acc Train = 59.83% \n",
      "Loss Test = 0.846  |  Best Acc Test = 72.09%\n",
      "=====> Epoch 3 : \n",
      "Loss Train = 0.834  |  Best Acc Train = 73.43% \n",
      "Loss Test = 0.645  |  Best Acc Test = 78.46%\n",
      "=====> Epoch 4 : \n",
      "Loss Train = 0.568  |  Best Acc Train = 81.63% \n",
      "Loss Test = 0.509  |  Best Acc Test = 81.99%\n",
      "=====> Epoch 5 : \n",
      "Loss Train = 0.484  |  Best Acc Train = 84.48% \n",
      "Loss Test = 0.499  |  Best Acc Test = 82.54%\n",
      "=====> Epoch 6 : \n",
      "Loss Train = 0.386  |  Best Acc Train = 87.47% \n",
      "Loss Test = 0.506  |  Best Acc Test = 83.23%\n",
      "=====> Epoch 7 : \n",
      "Loss Train = 0.325  |  Best Acc Train = 89.36% \n",
      "Loss Test = 0.605  |  Best Acc Test = 83.23%\n",
      "=====> Epoch 8 : \n",
      "Loss Train = 0.331  |  Best Acc Train = 89.36% \n",
      "Loss Test = 0.593  |  Best Acc Test = 83.23%\n",
      "=====> Epoch 9 : \n",
      "Loss Train = 0.330  |  Best Acc Train = 89.36% \n",
      "Loss Test = 0.428  |  Best Acc Test = 84.81%\n",
      "=====> Epoch 10 : \n",
      "Loss Train = 0.310  |  Best Acc Train = 89.88% \n",
      "Loss Test = 0.514  |  Best Acc Test = 85.21%\n",
      "=====> Epoch 11 : \n",
      "Loss Train = 0.230  |  Best Acc Train = 92.20% \n",
      "Loss Test = 0.672  |  Best Acc Test = 85.21%\n",
      "=====> Epoch 12 : \n",
      "Loss Train = 0.244  |  Best Acc Train = 92.20% \n",
      "Loss Test = 0.530  |  Best Acc Test = 85.21%\n",
      "=====> Epoch 13 : \n",
      "Loss Train = 0.230  |  Best Acc Train = 92.74% \n",
      "Loss Test = 0.491  |  Best Acc Test = 85.21%\n",
      "=====> Epoch 14 : \n",
      "Loss Train = 0.189  |  Best Acc Train = 93.61% \n",
      "Loss Test = 0.381  |  Best Acc Test = 86.31%\n",
      "=====> Epoch 15 : \n",
      "Loss Train = 0.186  |  Best Acc Train = 94.09% \n",
      "Loss Test = 0.378  |  Best Acc Test = 86.72%\n",
      "=====> Epoch 16 : \n",
      "Loss Train = 0.185  |  Best Acc Train = 94.09% \n",
      "Loss Test = 0.361  |  Best Acc Test = 87.99%\n",
      "=====> Epoch 17 : \n",
      "Loss Train = 0.175  |  Best Acc Train = 94.31% \n",
      "Loss Test = 0.696  |  Best Acc Test = 87.99%\n",
      "=====> Epoch 18 : \n",
      "Loss Train = 0.169  |  Best Acc Train = 94.44% \n",
      "Loss Test = 0.419  |  Best Acc Test = 88.40%\n",
      "=====> Epoch 19 : \n",
      "Loss Train = 0.145  |  Best Acc Train = 95.10% \n",
      "Loss Test = 0.332  |  Best Acc Test = 89.25%\n",
      "=====> Epoch 20 : \n",
      "Loss Train = 0.128  |  Best Acc Train = 95.76% \n",
      "Loss Test = 0.479  |  Best Acc Test = 89.25%\n",
      "=====> Epoch 21 : \n",
      "Loss Train = 0.128  |  Best Acc Train = 95.76% \n",
      "Loss Test = 0.467  |  Best Acc Test = 89.25%\n",
      "=====> Epoch 22 : \n",
      "Loss Train = 0.125  |  Best Acc Train = 95.76% \n",
      "Loss Test = 0.547  |  Best Acc Test = 89.25%\n",
      "=====> Epoch 23 : \n",
      "Loss Train = 0.123  |  Best Acc Train = 95.76% \n",
      "Loss Test = 0.396  |  Best Acc Test = 89.25%\n",
      "=====> Epoch 24 : \n",
      "Loss Train = 0.116  |  Best Acc Train = 96.10% \n",
      "Loss Test = 0.403  |  Best Acc Test = 89.25%\n",
      "=====> Epoch 25 : \n",
      "Loss Train = 0.101  |  Best Acc Train = 96.63% \n",
      "Loss Test = 0.412  |  Best Acc Test = 89.25%\n",
      "=====> Epoch 26 : \n",
      "Loss Train = 0.088  |  Best Acc Train = 96.89% \n",
      "Loss Test = 0.391  |  Best Acc Test = 89.25%\n",
      "=====> Epoch 27 : \n",
      "Loss Train = 0.082  |  Best Acc Train = 97.25% \n",
      "Loss Test = 0.525  |  Best Acc Test = 89.25%\n",
      "=====> Epoch 28 : \n",
      "Loss Train = 0.083  |  Best Acc Train = 97.34% \n",
      "Loss Test = 0.542  |  Best Acc Test = 89.25%\n",
      "=====> Epoch 29 : \n",
      "Loss Train = 0.075  |  Best Acc Train = 97.49% \n",
      "Loss Test = 0.589  |  Best Acc Test = 89.25%\n",
      "=====> Epoch 30 : \n",
      "Loss Train = 0.063  |  Best Acc Train = 98.02% \n",
      "Loss Test = 0.487  |  Best Acc Test = 89.25%\n",
      "=====> Epoch 31 : \n",
      "Loss Train = 0.062  |  Best Acc Train = 98.02% \n",
      "Loss Test = 0.507  |  Best Acc Test = 89.25%\n",
      "=====> Epoch 32 : \n",
      "Loss Train = 0.055  |  Best Acc Train = 98.18% \n",
      "Loss Test = 0.448  |  Best Acc Test = 89.25%\n",
      "=====> Epoch 33 : \n",
      "Loss Train = 0.046  |  Best Acc Train = 98.40% \n",
      "Loss Test = 0.579  |  Best Acc Test = 89.25%\n",
      "=====> Epoch 34 : \n",
      "Loss Train = 0.044  |  Best Acc Train = 98.40% \n",
      "Loss Test = 0.525  |  Best Acc Test = 89.25%\n",
      "=====> Epoch 35 : \n",
      "Loss Train = 0.045  |  Best Acc Train = 98.49% \n",
      "Loss Test = 0.421  |  Best Acc Test = 89.25%\n",
      "=====> Epoch 36 : \n",
      "Loss Train = 0.038  |  Best Acc Train = 98.75% \n",
      "Loss Test = 0.451  |  Best Acc Test = 89.25%\n",
      "=====> Epoch 37 : \n",
      "Loss Train = 0.033  |  Best Acc Train = 98.89% \n",
      "Loss Test = 0.370  |  Best Acc Test = 90.47%\n",
      "=====> Epoch 38 : \n",
      "Loss Train = 0.029  |  Best Acc Train = 99.08% \n",
      "Loss Test = 0.514  |  Best Acc Test = 90.47%\n",
      "=====> Epoch 39 : \n",
      "Loss Train = 0.023  |  Best Acc Train = 99.21% \n",
      "Loss Test = 0.380  |  Best Acc Test = 90.47%\n",
      "=====> Epoch 40 : \n",
      "Loss Train = 0.021  |  Best Acc Train = 99.40% \n",
      "Loss Test = 0.397  |  Best Acc Test = 90.47%\n",
      "=====> Epoch 41 : \n",
      "Loss Train = 0.021  |  Best Acc Train = 99.40% \n",
      "Loss Test = 0.388  |  Best Acc Test = 90.47%\n",
      "=====> Epoch 42 : \n",
      "Loss Train = 0.018  |  Best Acc Train = 99.54% \n",
      "Loss Test = 0.446  |  Best Acc Test = 90.47%\n",
      "=====> Epoch 43 : \n",
      "Loss Train = 0.019  |  Best Acc Train = 99.54% \n",
      "Loss Test = 0.429  |  Best Acc Test = 90.47%\n",
      "=====> Epoch 44 : \n",
      "Loss Train = 0.018  |  Best Acc Train = 99.54% \n",
      "Loss Test = 0.429  |  Best Acc Test = 90.47%\n",
      "=====> Epoch 45 : \n",
      "Loss Train = 0.014  |  Best Acc Train = 99.65% \n",
      "Loss Test = 0.420  |  Best Acc Test = 90.47%\n",
      "=====> Epoch 46 : \n",
      "Loss Train = 0.015  |  Best Acc Train = 99.66% \n",
      "Loss Test = 0.423  |  Best Acc Test = 90.47%\n",
      "=====> Epoch 47 : \n",
      "Loss Train = 0.014  |  Best Acc Train = 99.66% \n",
      "Loss Test = 0.430  |  Best Acc Test = 90.47%\n",
      "=====> Epoch 48 : \n",
      "Loss Train = 0.015  |  Best Acc Train = 99.66% \n",
      "Loss Test = 0.454  |  Best Acc Test = 90.47%\n",
      "=====> Epoch 49 : \n",
      "Loss Train = 0.014  |  Best Acc Train = 99.66% \n",
      "Loss Test = 0.427  |  Best Acc Test = 90.47%\n"
     ]
    },
    {
     "data": {
      "text/html": [
       "Waiting for W&B process to finish... <strong style=\"color:green\">(success).</strong>"
      ],
      "text/plain": [
       "<IPython.core.display.HTML object>"
      ]
     },
     "metadata": {},
     "output_type": "display_data"
    },
    {
     "data": {
      "application/vnd.jupyter.widget-view+json": {
       "model_id": "5e6b19a25caf478cb31260406f8b9393",
       "version_major": 2,
       "version_minor": 0
      },
      "text/plain": [
       "VBox(children=(Label(value='0.003 MB of 0.003 MB uploaded (0.000 MB deduped)\\r'), FloatProgress(value=1.0, max…"
      ]
     },
     "metadata": {},
     "output_type": "display_data"
    },
    {
     "data": {
      "text/html": [
       "<style>\n",
       "    table.wandb td:nth-child(1) { padding: 0 10px; text-align: left ; width: auto;} td:nth-child(2) {text-align: left ; width: 100%}\n",
       "    .wandb-row { display: flex; flex-direction: row; flex-wrap: wrap; justify-content: flex-start; width: 100% }\n",
       "    .wandb-col { display: flex; flex-direction: column; flex-basis: 100%; flex: 1; padding: 10px; }\n",
       "    </style>\n",
       "<div class=\"wandb-row\"><div class=\"wandb-col\"><h3>Run history:</h3><br/><table class=\"wandb\"><tr><td>Epoch</td><td>▁▁▁▁▂▂▂▂▂▃▃▃▃▃▃▄▄▄▄▄▅▅▅▅▅▅▆▆▆▆▆▆▇▇▇▇▇███</td></tr><tr><td>acc_test</td><td>▁▄▅▆▇▇▇▆▇▇▇▇▇█▇█▇▇████▇▇███▇████████████</td></tr><tr><td>acc_train</td><td>▁▃▅▆▇▇▇▇▇▇▇▇████████████████████████████</td></tr><tr><td>loss_test</td><td>█▅▃▂▂▂▂▂▂▂▂▂▁▁▃▁▂▁▂▁▁▁▂▂▂▂▁▂▁▁▁▂▁▁▁▁▁▁▁▁</td></tr><tr><td>loss_train</td><td>█▆▄▃▂▂▂▂▂▂▂▂▁▁▁▁▁▁▁▁▁▁▁▁▁▁▁▁▁▁▁▁▁▁▁▁▁▁▁▁</td></tr><tr><td>lr_w</td><td>▁▂▂▃▄▅▅▆▇███████▇▇▇▇▆▆▆▅▅▄▄▄▃▃▃▂▂▂▁▁▁▁▁▁</td></tr><tr><td>sigma</td><td>▁▁▁▁▁▁▁▁▁▁▁▁▁▁▁▁▁▁▁▁▁▁▁▁▁▁▁▁▁▁▁▁▁▁▁▁▁▁▁▁</td></tr></table><br/></div><div class=\"wandb-col\"><h3>Run summary:</h3><br/><table class=\"wandb\"><tr><td>Epoch</td><td>49</td></tr><tr><td>acc_test</td><td>0.89323</td></tr><tr><td>acc_train</td><td>0.99609</td></tr><tr><td>loss_test</td><td>0.42695</td></tr><tr><td>loss_train</td><td>0.01441</td></tr><tr><td>lr_w</td><td>3e-05</td></tr><tr><td>sigma</td><td>0.5</td></tr></table><br/></div></div>"
      ],
      "text/plain": [
       "<IPython.core.display.HTML object>"
      ]
     },
     "metadata": {},
     "output_type": "display_data"
    },
    {
     "data": {
      "text/html": [
       " View run <strong style=\"color:#cdcd00\">SOTA||shd||snn_delays_lr0||sum||MaxDelay=21||neuron=lif||seed=0</strong> at: <a href='https://wandb.ai/thvnvtos/SHD-BestACC/runs/83s7f7kg' target=\"_blank\">https://wandb.ai/thvnvtos/SHD-BestACC/runs/83s7f7kg</a><br/>Synced 6 W&B file(s), 0 media file(s), 0 artifact file(s) and 0 other file(s)"
      ],
      "text/plain": [
       "<IPython.core.display.HTML object>"
      ]
     },
     "metadata": {},
     "output_type": "display_data"
    },
    {
     "data": {
      "text/html": [
       "Find logs at: <code>./wandb/run-20230411_141234-83s7f7kg/logs</code>"
      ],
      "text/plain": [
       "<IPython.core.display.HTML object>"
      ]
     },
     "metadata": {},
     "output_type": "display_data"
    }
   ],
   "source": [
    "config = Config()\n",
    "train_loader, valid_loader = SHD_dataloaders(config)\n",
    "model = SnnDelays(config)\n",
    "\n",
    "device = torch.device(\"cuda\" if torch.cuda.is_available() else \"cpu\")\n",
    "model.train_model(train_loader, valid_loader, device)"
   ]
  },
  {
   "cell_type": "code",
   "execution_count": null,
   "metadata": {},
   "outputs": [],
   "source": []
  }
 ],
 "metadata": {
  "kernelspec": {
   "display_name": "snn-delays",
   "language": "python",
   "name": "python3"
  },
  "language_info": {
   "codemirror_mode": {
    "name": "ipython",
    "version": 3
   },
   "file_extension": ".py",
   "mimetype": "text/x-python",
   "name": "python",
   "nbconvert_exporter": "python",
   "pygments_lexer": "ipython3",
   "version": "3.9.16"
  },
  "orig_nbformat": 4
 },
 "nbformat": 4,
 "nbformat_minor": 2
}
